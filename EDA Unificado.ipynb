{
 "cells": [
  {
   "cell_type": "markdown",
   "metadata": {},
   "source": [
    "# EDA Datos Google Maps / Yelp / Datos Macroeconómicos"
   ]
  },
  {
   "cell_type": "markdown",
   "metadata": {},
   "source": [
    "## ÍNDICE"
   ]
  },
  {
   "cell_type": "markdown",
   "metadata": {},
   "source": [
    "1. [YELP](#YELP)\n",
    "\n",
    "2. [METADATA](#METADATA)\n",
    "\n",
    "3. [DATOS_MACROECONOMICOS](#DATOS_MACROECONOMICOS)\n",
    "\n",
    "4. [CALIFORNIA](#CALIFORNIA)"
   ]
  },
  {
   "cell_type": "markdown",
   "metadata": {},
   "source": [
    "# Introducción"
   ]
  },
  {
   "cell_type": "markdown",
   "metadata": {},
   "source": [
    "En este análisis exploratorio de datos (EDA), se analizarán las reseñas tanto de Google Maps coomo de Yelp pertenecientes al estado de California para comprender mejor las opiniones y percepciones de los usuarios sobre los establecimientos turísticos y de ocio. Este estudio tiene como objetivo identificar las tendencias y patrones en las calificaciones y comentarios, así como destacar los aspectos más valorados por los clientes y las áreas que requieren mejoras."
   ]
  },
  {
   "cell_type": "markdown",
   "metadata": {},
   "source": [
    "Importación de librerías"
   ]
  },
  {
   "cell_type": "code",
   "execution_count": 1,
   "metadata": {},
   "outputs": [],
   "source": [
    "import pandas as pd\n",
    "import numpy as np\n",
    "import ast\n",
    "import json\n",
    "import jsonlines\n",
    "import matplotlib.pyplot as plt\n",
    "from wordcloud import WordCloud\n",
    "import matplotlib as plt\n",
    "import os\n",
    "import warnings\n",
    "import gc\n",
    "import seaborn as sns\n",
    "import nltk\n",
    "from nltk.corpus import stopwords\n",
    "from nltk.tokenize import word_tokenize\n",
    "import string"
   ]
  },
  {
   "cell_type": "markdown",
   "metadata": {},
   "source": [
    "Carga de datasets"
   ]
  },
  {
   "cell_type": "code",
   "execution_count": 3,
   "metadata": {},
   "outputs": [],
   "source": [
    "#EDA Datos macroeconómicos\n",
    "df_macro= pd.read_csv(r\"E:\\Repositorios y bases de datos\\Henry DS\\_PROYECTO FINAL\\material PF\\Yelp\\DATOS MACROECONIMICOS USA.csv\",encoding='latin-1',sep=\";\",decimal=\",\")\n",
    "\n",
    "#EDA Yelp\n",
    "data = []\n",
    "with jsonlines.open(r\"E:\\Repositorios y bases de datos\\Henry DS\\_PROYECTO FINAL\\material PF\\Yelp\\review-002.json\") as reader:\n",
    "    for obj in reader:\n",
    "        data.append(obj)\n",
    "\n",
    "df_yelp = pd.DataFrame(data)\n",
    "df_yelp \n",
    "\n",
    "#EDA Metadata Google\n",
    "data = []\n",
    "\n",
    "with jsonlines.open(r\"E:\\Repositorios y bases de datos\\Henry DS\\_PROYECTO FINAL\\material PF\\Google Maps\\metadata-sitios\\2.json\") as reader:\n",
    "    for obj in reader:\n",
    "        data.append(obj)\n",
    "\n",
    "df_metadata = pd.DataFrame(data)\n",
    "\n",
    "#EDA Estado de California\n",
    "df_california = pd.read_parquet(r\"E:\\Repositorios y bases de datos\\Henry DS\\_PROYECTO FINAL\\reviews.parquet\")"
   ]
  },
  {
   "cell_type": "code",
   "execution_count": null,
   "metadata": {},
   "outputs": [],
   "source": [
    "df_macro"
   ]
  },
  {
   "cell_type": "code",
   "execution_count": null,
   "metadata": {},
   "outputs": [],
   "source": [
    "df_yelp"
   ]
  },
  {
   "cell_type": "code",
   "execution_count": null,
   "metadata": {},
   "outputs": [],
   "source": [
    "df_metadata"
   ]
  },
  {
   "cell_type": "code",
   "execution_count": null,
   "metadata": {},
   "outputs": [],
   "source": [
    "df_california"
   ]
  },
  {
   "cell_type": "markdown",
   "metadata": {},
   "source": [
    "# YELP"
   ]
  },
  {
   "cell_type": "markdown",
   "metadata": {},
   "source": [
    "Ver valores faltantes y columnas"
   ]
  },
  {
   "cell_type": "code",
   "execution_count": null,
   "metadata": {},
   "outputs": [],
   "source": [
    "df_yelp.info()"
   ]
  },
  {
   "cell_type": "markdown",
   "metadata": {},
   "source": [
    "Analizar los tipos de datos presentes en cada columna"
   ]
  },
  {
   "cell_type": "code",
   "execution_count": null,
   "metadata": {},
   "outputs": [],
   "source": [
    "df_yelp.isna().sum()"
   ]
  },
  {
   "cell_type": "markdown",
   "metadata": {},
   "source": [
    "Podemos ver que no hay ningun valor faltante ni valores nulos.\n",
    "\n",
    "Ver los valores unicos de Stars"
   ]
  },
  {
   "cell_type": "code",
   "execution_count": null,
   "metadata": {},
   "outputs": [],
   "source": [
    "df_yelp['stars'].unique()"
   ]
  },
  {
   "cell_type": "markdown",
   "metadata": {},
   "source": [
    "# Gráficos\n",
    "\n",
    "Analizamos algunas muestras"
   ]
  },
  {
   "cell_type": "code",
   "execution_count": null,
   "metadata": {},
   "outputs": [],
   "source": [
    "plt.figure(figsize=(8,6))\n",
    "df_yelp.boxplot(column=['stars','useful','funny','cool'], sym='ro')\n",
    "plt.title('Boxplot de reviews')\n",
    "plt.xlabel('columnas')\n",
    "plt.ylabel('cantidad')\n",
    "\n",
    "plt.show()"
   ]
  },
  {
   "cell_type": "markdown",
   "metadata": {},
   "source": [
    "Existen muchas cantidad de outliers en la columna 'useful', 'funny' y 'cool' . La columna Stars esta con parametros correctos. \n",
    "La gran cantidad de valores bajos en el boxplot indica que la mayoría de los usuarios participa de manera moderada, publicando pocas reseñas y recibiendo pocos votos en las diferentes categorías."
   ]
  },
  {
   "cell_type": "markdown",
   "metadata": {},
   "source": [
    "Nube de palabras"
   ]
  },
  {
   "cell_type": "code",
   "execution_count": null,
   "metadata": {},
   "outputs": [],
   "source": [
    "# Tomar las primeras 1000 filas de la columna 'text'\n",
    "df_review_subset = df_yelp.head(10000)"
   ]
  },
  {
   "cell_type": "code",
   "execution_count": null,
   "metadata": {},
   "outputs": [],
   "source": [
    "text = \" \".join(review for review in df_review_subset.text)\n",
    "\n",
    "wordcloud = WordCloud(width=800, height=400, background_color='white').generate(text)\n",
    "\n",
    "plt.figure(figsize=(10, 5))\n",
    "plt.imshow(wordcloud, interpolation='bilinear')\n",
    "plt.axis('off')\n",
    "plt.show()"
   ]
  },
  {
   "cell_type": "code",
   "execution_count": null,
   "metadata": {},
   "outputs": [],
   "source": [
    "tam_muestra = 1000\n",
    "muestra = pd.read_json(r\"E:\\Repositorios y bases de datos\\Henry DS\\_PROYECTO FINAL\\material PF\\Google Maps\\metadata-sitios\\2.json\",\n",
    "lines=True, chunksize=tam_muestra)\n",
    "\n",
    "valores = []\n",
    "\n",
    "for valor in muestra:\n",
    "    \n",
    "    valores_uso = valor['stars']\n",
    "    \n",
    "    valores.extend(valores_uso)\n",
    "\n",
    "\n",
    "plt.hist(valores, bins=10, edgecolor='black')\n",
    "plt.xlabel('Valores de stars')\n",
    "plt.ylabel('Frecuencia')\n",
    "plt.title('Distribución de la columna \"star\"')\n",
    "plt.show()"
   ]
  },
  {
   "cell_type": "markdown",
   "metadata": {},
   "source": [
    "Se ve una tendencia de mayor frecuencia de puntuaciones por encima de 3.5 en las reseñas.\n",
    "La mayoría de las experiencias de los usuarios son positivas. Vemos que los usuarios tienden a calificar favorablemente los negocios que están revisando.\n",
    "\n"
   ]
  },
  {
   "cell_type": "code",
   "execution_count": null,
   "metadata": {},
   "outputs": [],
   "source": [
    "tam_muestra = 10000\n",
    "muestra = pd.read_json(r'D:\\Denise_Estudio\\henry\\Proyecto final\\data\\Yelp\\review.json',\n",
    "lines=True, chunksize=tam_muestra)\n",
    "\n",
    "useful_list = []\n",
    "stars_list = []\n",
    "\n",
    "\n",
    "for data_block in muestra:\n",
    "    useful_list.extend(data_block['useful'])\n",
    "    stars_list.extend(data_block['stars'])\n",
    "\n",
    "\n",
    "plt.scatter(stars_list, useful_list, alpha=0.5)\n",
    "plt.xlabel('Puntaje de Estrellas')\n",
    "plt.ylabel('Votos ')\n",
    "plt.title('Puntaje de Estrellas')\n",
    "plt.show()"
   ]
  },
  {
   "cell_type": "markdown",
   "metadata": {},
   "source": [
    "En este gráfico queda en evidencia que con las estrellas con valores mas bajos hay mas interaccion,  siendo este review muy calificado como 'useful' por otros usuarios.\n"
   ]
  },
  {
   "cell_type": "markdown",
   "metadata": {},
   "source": [
    "# Datasets TIP\n",
    "\n",
    "\n",
    "Tips (consejos) escritos por el usuario. Los tips son más cortas que las reseñas y tienden a dar sugerencias rápidas."
   ]
  },
  {
   "cell_type": "code",
   "execution_count": null,
   "metadata": {},
   "outputs": [],
   "source": [
    "data = []\n",
    "\n",
    "# Leer el archivo JSON Lines\n",
    "with jsonlines.open(r\"E:\\Repositorios y bases de datos\\Henry DS\\_PROYECTO FINAL\\material PF\\Yelp\\tip.json\") as reader:\n",
    "    for obj in reader:\n",
    "        data.append(obj)\n",
    "\n",
    "# Convertir la lista de objetos JSON en un DataFrame\n",
    "df_tips = pd.DataFrame(data)\n",
    "df_tips"
   ]
  },
  {
   "cell_type": "markdown",
   "metadata": {},
   "source": [
    "Se revisan algunas columas, tipos de datos y nulos"
   ]
  },
  {
   "cell_type": "code",
   "execution_count": null,
   "metadata": {},
   "outputs": [],
   "source": [
    "df_tips.info()"
   ]
  },
  {
   "cell_type": "code",
   "execution_count": null,
   "metadata": {},
   "outputs": [],
   "source": [
    "df_tips.isna().sum()"
   ]
  },
  {
   "cell_type": "code",
   "execution_count": null,
   "metadata": {},
   "outputs": [],
   "source": [
    "df_tips['compliment_count'].value_counts()"
   ]
  },
  {
   "cell_type": "markdown",
   "metadata": {},
   "source": [
    "Podemos notar que no hay presencia de valos nulos"
   ]
  },
  {
   "cell_type": "markdown",
   "metadata": {},
   "source": [
    "# Gráficos\n",
    "\n",
    "Comencemos a analizar con una nube de palabras sobre una muestra de 10000 filas cuales se repiten más"
   ]
  },
  {
   "cell_type": "code",
   "execution_count": null,
   "metadata": {},
   "outputs": [],
   "source": [
    "muestra_tip = df_tips.head(10000)"
   ]
  },
  {
   "cell_type": "code",
   "execution_count": null,
   "metadata": {},
   "outputs": [],
   "source": [
    "text = \" \".join(review for review in muestra_tip.text)\n",
    "\n",
    "wordcloud = WordCloud(width=800, height=400, background_color='white').generate(text)\n",
    "\n",
    "plt.figure(figsize=(10, 5))\n",
    "plt.imshow(wordcloud, interpolation='bilinear')\n",
    "plt.axis('off')\n",
    "plt.show()"
   ]
  },
  {
   "cell_type": "markdown",
   "metadata": {},
   "source": [
    "Se puede observar que parece existir una tendencia a dejar comentarios buenos y favorables, dado que resaltan palabras como 'great', 'best' ,'good'.\n",
    "\n",
    "Intentemos con un filtro, por ejemplo donde aparezca la palabra 'food' para conocer las palabras o frases asociadas que más se repiten."
   ]
  },
  {
   "cell_type": "code",
   "execution_count": null,
   "metadata": {},
   "outputs": [],
   "source": [
    "filtro = df_tips[df_tips['text'].str.contains('food', case=False)]\n",
    "\n",
    "muestra2_tip = filtro.head(10000)"
   ]
  },
  {
   "cell_type": "code",
   "execution_count": null,
   "metadata": {},
   "outputs": [],
   "source": [
    "text2 = \" \".join(review for review in muestra2_tip.text)\n",
    "\n",
    "wordcloud = WordCloud(width=800, height=400, background_color='white').generate(text2)\n",
    "\n",
    "plt.figure(figsize=(10, 5))\n",
    "plt.imshow(wordcloud, interpolation='bilinear')\n",
    "plt.axis('off')\n",
    "plt.show()"
   ]
  },
  {
   "cell_type": "markdown",
   "metadata": {},
   "source": [
    "Análisis de Comentarios en el Ámbito Gastronómico:\n",
    "\n",
    "Al aplicar un filtro sobre la muestra de datos analizados, se observa una prevalencia de términos y frases favorables relacionados con el ámbito gastronómico. Palabras y expresiones como \"great food\", \"good\", y \"great service\" son recurrentes en los comentarios, indicando una tendencia predominante hacia evaluaciones positivas. Esto sugiere que, en el dataset analizado (TIPS), los comentarios favorables superan en cantidad a las quejas."
   ]
  },
  {
   "cell_type": "markdown",
   "metadata": {},
   "source": [
    "# Dataset check in\n",
    "\n",
    "Creación del dataframe"
   ]
  },
  {
   "cell_type": "code",
   "execution_count": null,
   "metadata": {},
   "outputs": [],
   "source": [
    "data = []\n",
    "\n",
    "# Leer el archivo JSON Lines\n",
    "with jsonlines.open('D:\\Denise_Estudio\\henry\\Proyecto final\\data\\Yelp\\checkin.json') as reader:\n",
    "    for obj in reader:\n",
    "        data.append(obj)\n",
    "\n",
    "df_check = pd.DataFrame(data)\n",
    "df_check"
   ]
  },
  {
   "cell_type": "markdown",
   "metadata": {},
   "source": [
    "Revisamos columnas, tipos de datos, nulos "
   ]
  },
  {
   "cell_type": "code",
   "execution_count": null,
   "metadata": {},
   "outputs": [],
   "source": [
    "df_check.info()"
   ]
  },
  {
   "cell_type": "markdown",
   "metadata": {},
   "source": [
    "No hay presencia de nulos\n",
    "\n",
    "Además podemos ver de este dataset que conotiene la informacion referida a cada negocio asociado por su id, y fechas de registros o cambios que se generen dentro de la plataforma, lo cual nos brinda informacion de los registros de cada negocio y en que fecha se realizo."
   ]
  },
  {
   "cell_type": "markdown",
   "metadata": {},
   "source": [
    "# Dataset business\n",
    "\n",
    "Contiene información del comercio, incluyendo localización, atributos y categorías.\n",
    "\n",
    "Se crea el dataframe"
   ]
  },
  {
   "cell_type": "code",
   "execution_count": null,
   "metadata": {},
   "outputs": [],
   "source": [
    "df_business = pd.read_pickle(r\"E:\\Repositorios y bases de datos\\Henry DS\\_PROYECTO FINAL\\material PF\\Yelp\\business.pkl\")"
   ]
  },
  {
   "cell_type": "markdown",
   "metadata": {},
   "source": [
    "Se busca informacion sobre las columnas, variables y valores nulos"
   ]
  },
  {
   "cell_type": "code",
   "execution_count": null,
   "metadata": {},
   "outputs": [],
   "source": [
    "df_business"
   ]
  },
  {
   "cell_type": "code",
   "execution_count": null,
   "metadata": {},
   "outputs": [],
   "source": [
    "df_business.info()"
   ]
  },
  {
   "cell_type": "code",
   "execution_count": null,
   "metadata": {},
   "outputs": [],
   "source": [
    "df_business.isna().sum()"
   ]
  },
  {
   "cell_type": "markdown",
   "metadata": {},
   "source": [
    "Se observa que hay columnas repetidas, las cuales tienen demasiados nulos, dado que hablamos de gran porcentaje opto por borrarlas ya que no podran brindar informacion útil"
   ]
  },
  {
   "cell_type": "code",
   "execution_count": null,
   "metadata": {},
   "outputs": [],
   "source": [
    "df_business = df_business.loc[:, ~df_business.columns.duplicated()]\n",
    "df_business"
   ]
  },
  {
   "cell_type": "code",
   "execution_count": null,
   "metadata": {},
   "outputs": [],
   "source": [
    "df_business.info()"
   ]
  },
  {
   "cell_type": "markdown",
   "metadata": {},
   "source": [
    "Busco valores duplicados revisando id"
   ]
  },
  {
   "cell_type": "code",
   "execution_count": null,
   "metadata": {},
   "outputs": [],
   "source": [
    "duplicates = df_business.duplicated(subset=['business_id'], keep=False)\n",
    "duplicate_ids = df_business[duplicates]['business_id'].unique()\n",
    "duplicate_ids"
   ]
  },
  {
   "cell_type": "markdown",
   "metadata": {},
   "source": [
    "No se encuentran valores duplicados"
   ]
  },
  {
   "cell_type": "code",
   "execution_count": null,
   "metadata": {},
   "outputs": [],
   "source": [
    "df_business.isna().sum()"
   ]
  },
  {
   "cell_type": "code",
   "execution_count": null,
   "metadata": {},
   "outputs": [],
   "source": [
    "df_business['categories'].value_counts()\n"
   ]
  },
  {
   "cell_type": "markdown",
   "metadata": {},
   "source": [
    "Analicemos por estados, que valores hay y en cuales hay mayores frecuencias"
   ]
  },
  {
   "cell_type": "code",
   "execution_count": null,
   "metadata": {},
   "outputs": [],
   "source": [
    "unique_states = df_business['state'].nunique()\n",
    "unique_states"
   ]
  },
  {
   "cell_type": "code",
   "execution_count": null,
   "metadata": {},
   "outputs": [],
   "source": [
    "df_business['state'].value_counts()"
   ]
  },
  {
   "cell_type": "markdown",
   "metadata": {},
   "source": [
    "Analisis de manera Gráfica"
   ]
  },
  {
   "cell_type": "code",
   "execution_count": null,
   "metadata": {},
   "outputs": [],
   "source": [
    "#\n",
    "#\n",
    "#\n",
    "#\n",
    "#\n",
    "#\n",
    "#warning\n",
    "#\n",
    "#\n",
    "#\n",
    "#\n",
    "#\n",
    "\n",
    "columnas = [\"state\",\"stars\"]\n",
    "\n",
    "#Gráficos de barras de conteo\n",
    "fig, ax = plt.subplots(nrows=len(columnas),ncols =1, figsize=(10,45))\n",
    "fig.subplots_adjust(hspace=0.5)\n",
    "\n",
    "for i, col in enumerate(columnas):\n",
    "    sns.countplot(x=col, data=df_business,ax=ax[i], color='red')\n",
    "    ax[i].set_title(col)\n",
    "    ax[i].set_xticklabels(ax[i].get_xticklabels(),rotation=30)"
   ]
  },
  {
   "cell_type": "code",
   "execution_count": null,
   "metadata": {},
   "outputs": [],
   "source": [
    "mayores_negocios = df_business.name.value_counts()"
   ]
  },
  {
   "cell_type": "code",
   "execution_count": null,
   "metadata": {},
   "outputs": [],
   "source": [
    "categoria_counts =df_business['categories'].value_counts()\n",
    "\n",
    "# Seleccionar los 25 nombres más frecuentes\n",
    "top_25_categorias = categoria_counts.head(25)\n",
    "\n",
    "# Graficar los 25 caaategorías más frecuentes\n",
    "plt.figure(figsize=(12, 8))\n",
    "sns.barplot(x=top_25_categorias.values, y=top_25_categorias.index, color='red')\n",
    "plt.xlabel('Conteo de usuarios')\n",
    "plt.ylabel('Categorías')\n",
    "plt.title('25 usuarios más Frecuentes')\n",
    "plt.show()"
   ]
  },
  {
   "cell_type": "markdown",
   "metadata": {},
   "source": [
    "Se pueden analizar las categorias de negocios que más se repiten, siendo los más repetidos salones de belleza, restaurantes (que difieren en categorias entre ellos) y hoteles."
   ]
  },
  {
   "cell_type": "code",
   "execution_count": null,
   "metadata": {},
   "outputs": [],
   "source": [
    "mayores_negocios.head(20)"
   ]
  },
  {
   "cell_type": "markdown",
   "metadata": {},
   "source": [
    "Podemos observar que la matoria de cadenas que se repiten son del ámbito gastronómico, vamos a verlo de manera gráfica."
   ]
  },
  {
   "cell_type": "code",
   "execution_count": null,
   "metadata": {},
   "outputs": [],
   "source": [
    "business_count = df_business['name'].value_counts()\n",
    "top_30_categorias = business_count.head(35)\n",
    "\n",
    "plt.figure(figsize=(12, 8))\n",
    "sns.barplot(x=top_30_categorias.values, y=top_30_categorias.index, color='Red')\n",
    "plt.xlabel('Conteo de repeticiones')\n",
    "plt.ylabel('Cadenas')\n",
    "plt.title('30 cadenas más Frecuentes')\n",
    "plt.show()"
   ]
  },
  {
   "cell_type": "markdown",
   "metadata": {},
   "source": [
    "Podemos notar que en su mayoria existen muchisimos negocios usuarios de Yelp que sse corresponden al rubro gastronomico, viendo aqui los mejores por filtrado de la columna 'name', que corresponden a las mas grandes cadenas existentes en USA.\n",
    "\n",
    "Filtremos esto para ver quienes tienen mayor frecuencia en un Estado puntual, California."
   ]
  },
  {
   "cell_type": "code",
   "execution_count": null,
   "metadata": {},
   "outputs": [],
   "source": [
    "df_business_california = df_business.loc[df_business['state'] == 'CA']\n",
    "df_business_california\n"
   ]
  },
  {
   "cell_type": "code",
   "execution_count": null,
   "metadata": {},
   "outputs": [],
   "source": [
    "business_count_ca = df_business_california['name'].value_counts()\n",
    "top_categorias = business_count_ca.head(35)\n",
    "\n",
    "plt.figure(figsize=(12, 8))\n",
    "sns.barplot(x=top_categorias.values, y=top_categorias.index, color='Red')\n",
    "plt.xlabel('Conteo de repeticiones')\n",
    "plt.ylabel('Marcas')\n",
    "plt.title('25 cadenas más Frecuentes')\n",
    "plt.show()"
   ]
  },
  {
   "cell_type": "markdown",
   "metadata": {},
   "source": [
    "En el Estado de California vemos que existen 30 locales Starsbucks, siendo la cadena con mayor presencia en el estado. Seguido de Mc Donal's y Subway "
   ]
  },
  {
   "cell_type": "markdown",
   "metadata": {},
   "source": [
    "Se realiza un merge para saber que establecimientos son:"
   ]
  },
  {
   "cell_type": "code",
   "execution_count": null,
   "metadata": {},
   "outputs": [],
   "source": [
    "filtered_df = pd.merge(df_business_california, top_categorias, on='name', how='inner')\n",
    "filtered_df"
   ]
  },
  {
   "cell_type": "markdown",
   "metadata": {},
   "source": [
    "Filtrar negocios con estrellas entre 3 y 5 estrellas  en todo el dataframe de business para saber luego las que no estan tan presentes y tienen mejoes reseñas\n",
    "\n",
    "high_rating_df: Contiene solo las filas de filtered_df donde la calificación de estrellas está entre 2 y 5.\n",
    "business_presence: Calcula cuántas veces aparece cada nombre en high_rating_df. Si se corrige el error y se convierte en un DataFrame, mostrará dos columnas: 'name' y 'frecuencia', donde 'frecuencia' es el número de veces que aparece cada nombre."
   ]
  },
  {
   "cell_type": "markdown",
   "metadata": {},
   "source": [
    "Filtrado de resultados entre 3 y 5 stars para tener los nombres de negocios con mejores reseñas"
   ]
  },
  {
   "cell_type": "code",
   "execution_count": null,
   "metadata": {},
   "outputs": [],
   "source": [
    "filtered_business = df_business[(df_business['stars'] >= 3) & (df_business['stars'] <= 5)]"
   ]
  },
  {
   "cell_type": "code",
   "execution_count": null,
   "metadata": {},
   "outputs": [],
   "source": [
    "name_count = filtered_business['name'].value_counts()\n",
    "top_names = name_count.head(35)\n"
   ]
  },
  {
   "cell_type": "markdown",
   "metadata": {},
   "source": [
    "Graficar los resultados"
   ]
  },
  {
   "cell_type": "code",
   "execution_count": null,
   "metadata": {},
   "outputs": [],
   "source": [
    "plt.figure(figsize=(12, 8))\n",
    "sns.barplot(x=top_names.values, y=top_names.index, color='Red')\n",
    "plt.xlabel('Conteo de repeticiones')\n",
    "plt.ylabel('Nombres')\n",
    "plt.title('35 nombres más frecuentes con estrellas entre 3 y 5')\n",
    "plt.show()\n"
   ]
  },
  {
   "cell_type": "markdown",
   "metadata": {},
   "source": [
    "\n",
    "Eje X (horizontal): Representa el conteo de repeticiones, es decir, la cantidad de veces que cada nombre de negocio aparece en las reseñas con calificaciones de entre 3 y 5 estrellas.\n",
    "\n",
    "Eje Y (vertical): Muestra los nombres de los negocios más frecuentes dentro del rango de estrellas especificado.\n",
    "\n",
    "Los negocios representados en este gráfico son aquellos que han recibido una cantidad significativa de reseñas con calificaciones de entre 3 y 5 estrellas, lo que puede implicar una satisfacción moderada a alta por parte de los usuarios.\n",
    "La frecuencia de los nombres sugiere que estos negocios tienen una presencia notable en la base de datos de reseñas, posiblemente debido a su popularidad y amplia distribución.\n",
    "\n",
    "Conclusión de sección:\n",
    "\n",
    "Este análisis visual permite identificar rápidamente qué negocios son los más mencionados dentro de las reseñas con calificaciones positivas y moderadas,proporcionando una visión sobre cuáles establecimientos tienen una mayor visibilidad y reciben una cantidad considerable de opiniones por parte de los usuarios.\n",
    "\n",
    "Relacionando con el gráfico anterior, podemos seleccionar que cadenas presentes en este gráfico son las que tienen mejores reseñas a nivel nacional, para luego identificar en el Estado de California las que tengan oportunidad de crecimiento.\n",
    "\n",
    "\n",
    "VAMOS A ANALIZARL ALGUNAS"
   ]
  },
  {
   "cell_type": "code",
   "execution_count": null,
   "metadata": {},
   "outputs": [],
   "source": [
    "burger_king_indices = df_business[df_business['name'] == 'Burger King'].index\n",
    "\n",
    "# Usar iloc para seleccionar la columna 'categories' en esos índices\n",
    "burger_king_categories = df_business.iloc[burger_king_indices][['name', 'categories']]\n",
    "\n",
    "# Mostrar los resultados\n",
    "print(burger_king_categories)"
   ]
  },
  {
   "cell_type": "code",
   "execution_count": null,
   "metadata": {},
   "outputs": [],
   "source": [
    "df_business.iloc[1329]['categories']"
   ]
  },
  {
   "cell_type": "code",
   "execution_count": null,
   "metadata": {},
   "outputs": [],
   "source": [
    "taco_bell_indices = df_business[df_business['name'] == 'Taco Bell'].index\n",
    "\n",
    "# Usar iloc para seleccionar la columna 'categories' en esos índices\n",
    "taco_bell_categories = df_business.iloc[taco_bell_indices][['name', 'categories']]\n",
    "\n",
    "# Mostrar los resultados\n",
    "print(taco_bell_categories)"
   ]
  },
  {
   "cell_type": "code",
   "execution_count": null,
   "metadata": {},
   "outputs": [],
   "source": [
    "df_business.iloc[1067]['categories']"
   ]
  },
  {
   "cell_type": "markdown",
   "metadata": {},
   "source": [
    "# Dataset user\n",
    "\n",
    "Este dataset contiene datos del usuario incluyendo referencias a otros usuarios amigos y a toda la metadata asociada al usuario.\n",
    "\n",
    "Cargo el dataset"
   ]
  },
  {
   "cell_type": "code",
   "execution_count": null,
   "metadata": {},
   "outputs": [],
   "source": [
    "df_user = pd.read_parquet(r\"E:\\Repositorios y bases de datos\\Henry DS\\_PROYECTO FINAL\\material PF\\Yelp\\user-001.parquet\")"
   ]
  },
  {
   "cell_type": "code",
   "execution_count": null,
   "metadata": {},
   "outputs": [],
   "source": [
    "df_user"
   ]
  },
  {
   "cell_type": "code",
   "execution_count": null,
   "metadata": {},
   "outputs": [],
   "source": [
    "df_user.info()"
   ]
  },
  {
   "cell_type": "markdown",
   "metadata": {},
   "source": [
    "Reviso los valores nulos"
   ]
  },
  {
   "cell_type": "code",
   "execution_count": null,
   "metadata": {},
   "outputs": [],
   "source": [
    "df_user.isna().sum()"
   ]
  },
  {
   "cell_type": "markdown",
   "metadata": {},
   "source": [
    "Este dataset posee multiples columnas con informacion referente a los usuaarios de Yelp, y diferentes promedios. No posee nulos o datos faltantes\n",
    "\n",
    "Reviso si hay valores repetidos."
   ]
  },
  {
   "cell_type": "code",
   "execution_count": null,
   "metadata": {},
   "outputs": [],
   "source": [
    "df_user.duplicated().sum()"
   ]
  },
  {
   "cell_type": "markdown",
   "metadata": {},
   "source": [
    "Existen 117700 filas repetidas, como esto no va a darme informacion fiable, decido eliminarlos para un mejor analisis"
   ]
  },
  {
   "cell_type": "code",
   "execution_count": null,
   "metadata": {},
   "outputs": [],
   "source": [
    "df_user.drop_duplicates(inplace=True)"
   ]
  },
  {
   "cell_type": "markdown",
   "metadata": {},
   "source": [
    "Reviso los outliers en las columnas numéricas"
   ]
  },
  {
   "cell_type": "code",
   "execution_count": null,
   "metadata": {},
   "outputs": [],
   "source": [
    "plt.figure(figsize=(8,6))\n",
    "df_user.boxplot(column=['review_count','useful','funny','cool','fans','average_stars'], sym='ro')\n",
    "plt.title('Boxplot de users')\n",
    "plt.xlabel('columnas')\n",
    "plt.ylabel('cantidad numerica')\n",
    "\n",
    "plt.show()"
   ]
  },
  {
   "cell_type": "markdown",
   "metadata": {},
   "source": [
    "Podemos ver que existen muchos valores outliers en cuanto a las columnas'useful','funny','cool' . Algunas pocas con datos de reviews y no hay outliers en average_stars, lo cual se corresponde a lo que cuenta la columna.\n",
    "\n",
    "El gráfico boxplot presentado muestra la distribución de diferentes métricas de interacción de usuarios en un conjunto de datos. Las métricas evaluadas son:\n",
    "\n",
    "review_count: La cantidad de reseñas realizadas por los usuarios.\n",
    "useful: La cantidad de votos que indican que una reseña fue útil.\n",
    "funny: La cantidad de votos que indican que una reseña fue divertida.\n",
    "cool: La cantidad de votos que indican que una reseña fue genial.\n",
    "fans: La cantidad de seguidores que tiene cada usuario.\n",
    "average_stars: La calificación promedio de las reseñas de cada usuario.\n",
    "\n",
    "La mayoría de los usuarios tienen valores bajos en todas las métricas evaluadas, lo cual se refleja en la concentración de datos cerca del eje horizontal.\n",
    "Hay presencia de numerosos valores atípicos (outliers) que se extienden hacia valores muy altos en todas las métricas, especialmente en las categorías de 'useful', 'funny' y 'cool'.\n",
    "\n",
    "Las métricas 'useful', 'funny' y 'cool' muestran una gran cantidad de valores atípicos que alcanzan hasta los 200,000 votos, indicando que algunos usuarios reciben una cantidad excepcionalmente alta de interacciones en sus reseñas.\n",
    "\n",
    "La alta concentración de valores bajos en el boxplot sugiere que la mayoría de los usuarios tienen una participación moderada, con pocas reseñas y votos en las distintas categorías."
   ]
  },
  {
   "cell_type": "code",
   "execution_count": null,
   "metadata": {},
   "outputs": [],
   "source": [
    "plt.figure(figsize=(18,10))\n",
    "df_user.boxplot(column=['compliment_more','compliment_profile','compliment_cute','compliment_list','compliment_note','compliment_plain','compliment_cool','compliment_funny','compliment_writer','compliment_photos'], sym='ro')\n",
    "plt.title('Boxplot de users')\n",
    "plt.xlabel('columnas')\n",
    "plt.ylabel('cantidad numerica')\n",
    "\n",
    "plt.show()"
   ]
  },
  {
   "cell_type": "markdown",
   "metadata": {},
   "source": [
    "El gráfico boxplot muestra la distribución de diferentes tipos de cumplidos recibidos por los usuarios.\n",
    " \n",
    "Las categorías evaluadas son:\n",
    "\n",
    "1) compliment_more: Más cumplidos.\n",
    "2) compliment_profile: Cumplidos sobre el perfil.\n",
    "3) compliment_cute: Cumplidos por ser lindo/a.\n",
    "4) compliment_list: Cumplidos por listas.\n",
    "5) compliment_note: Cumplidos por notas.\n",
    "6) compliment_plain: Cumplidos sencillos.\n",
    "7) compliment_cool: Cumplidos por ser genial.\n",
    "8) compliment_funny: Cumplidos por ser gracioso/a.\n",
    "9) compliment_writer: Cumplidos por ser buen escritor/a.\n",
    "10) compliment_photos: Cumplidos por fotos.\n",
    "\n",
    "Existen varios valores atípicos (outliers) que se extienden hacia valores muy altos, particularmente en las categorías de 'compliment_note', 'compliment_plain', 'compliment_cool', 'compliment_funny', y 'compliment_photos'. Estos valores atípicos resaltan la existencia de usuarios altamente reconocidos o populares, quienes reciben una cantidad significativamente mayor de cumplidos en comparación con el promedio."
   ]
  },
  {
   "cell_type": "markdown",
   "metadata": {},
   "source": [
    "Quiero analizar las mejores oportunidades de negocios, por lo que se buscaran franquicias con pocas sucursales y buenas reseñas.\n",
    "\n",
    "Para esto me dirijo a al dataframe reviews de Yelp."
   ]
  },
  {
   "cell_type": "code",
   "execution_count": null,
   "metadata": {},
   "outputs": [],
   "source": [
    "df_yelp.info()"
   ]
  },
  {
   "cell_type": "code",
   "execution_count": null,
   "metadata": {},
   "outputs": [],
   "source": [
    "average_stars = df_yelp.groupby('business_id')['stars'].sum()\n",
    "\n",
    "top_business = average_stars.sort_values(ascending=False).head(30)\n",
    "\n",
    "top_business"
   ]
  },
  {
   "cell_type": "code",
   "execution_count": null,
   "metadata": {},
   "outputs": [],
   "source": [
    "df_user.info()"
   ]
  },
  {
   "cell_type": "markdown",
   "metadata": {},
   "source": [
    "# METADATA"
   ]
  },
  {
   "cell_type": "markdown",
   "metadata": {},
   "source": [
    "# Nulos"
   ]
  },
  {
   "cell_type": "code",
   "execution_count": null,
   "metadata": {},
   "outputs": [],
   "source": [
    "df_metadata.isnull().sum()"
   ]
  },
  {
   "cell_type": "code",
   "execution_count": null,
   "metadata": {},
   "outputs": [],
   "source": [
    "print(df_metadata[df_metadata.isnull().any(axis=1)])"
   ]
  },
  {
   "cell_type": "markdown",
   "metadata": {},
   "source": [
    "# Vacíos"
   ]
  },
  {
   "cell_type": "code",
   "execution_count": null,
   "metadata": {},
   "outputs": [],
   "source": [
    "warnings.filterwarnings('ignore')"
   ]
  },
  {
   "cell_type": "code",
   "execution_count": null,
   "metadata": {},
   "outputs": [],
   "source": [
    "def is_empty(x):\n",
    "    if x is None:\n",
    "        return True\n",
    "    elif isinstance(x, (str, list, dict, set, np.ndarray)) and len(x) == 0:\n",
    "        return True\n",
    "    return False\n",
    "\n",
    "# Aplicar la función al DataFrame\n",
    "empty_mask = df_metadata.applymap(is_empty)\n",
    "\n",
    "# Ver el número de valores vacíos en cada columna\n",
    "print(\"\\nValores vacíos por columna:\")\n",
    "print(empty_mask.sum())\n",
    "\n",
    "# Ver las filas que contienen valores vacíos\n",
    "print(\"\\nFilas con valores vacíos:\")\n",
    "print(df_metadata[empty_mask.any(axis=1)])"
   ]
  },
  {
   "cell_type": "markdown",
   "metadata": {},
   "source": [
    "# Tipos de datos"
   ]
  },
  {
   "cell_type": "code",
   "execution_count": null,
   "metadata": {},
   "outputs": [],
   "source": [
    "#Evaluamos con qué tipo de datos contamos. Nos interesa buscar especialmente cadenas de texto y números enteros\n",
    "print(df_metadata.dtypes)"
   ]
  },
  {
   "cell_type": "markdown",
   "metadata": {},
   "source": [
    "# Metadatos"
   ]
  },
  {
   "cell_type": "code",
   "execution_count": null,
   "metadata": {},
   "outputs": [],
   "source": [
    "# Las siguientes celdad muestran datos generales del data frame\n",
    "df_metadata.info()"
   ]
  },
  {
   "cell_type": "code",
   "execution_count": null,
   "metadata": {},
   "outputs": [],
   "source": [
    "# Imprimir las dimensiones del data frame\n",
    "print(df_metadata.shape)"
   ]
  },
  {
   "cell_type": "code",
   "execution_count": null,
   "metadata": {},
   "outputs": [],
   "source": [
    "#Visualización de los nombres de las columnas\n",
    "print(df_metadata.columns)"
   ]
  },
  {
   "cell_type": "code",
   "execution_count": null,
   "metadata": {},
   "outputs": [],
   "source": [
    "# Datos estadísticos\n",
    "print(df_metadata.describe())      #Se procederá en el ETL a transformar la notación"
   ]
  },
  {
   "cell_type": "code",
   "execution_count": null,
   "metadata": {},
   "outputs": [],
   "source": [
    "unique_misc = df_metadata['gmap_id'].unique()\n",
    "#no se le puede aplicar a 'MISC', 'category', 'hours', 'relative_results' por ser de tipo lista."
   ]
  },
  {
   "cell_type": "markdown",
   "metadata": {},
   "source": [
    "Ejemplo de cómo se estructuran los valores en la columna 'category'"
   ]
  },
  {
   "cell_type": "code",
   "execution_count": null,
   "metadata": {},
   "outputs": [],
   "source": [
    "# Se elije esta columna por ser fundamental para el análisis y por ser muy compleja.\n",
    "df_metadata.loc[7, 'category']"
   ]
  },
  {
   "cell_type": "code",
   "execution_count": null,
   "metadata": {},
   "outputs": [],
   "source": [
    "# Vista rápida de la frecuencia de cada valor único en la columna 'category'\n",
    "category_counts = df_metadata['category'].value_counts()\n",
    "print(category_counts)\n"
   ]
  },
  {
   "cell_type": "markdown",
   "metadata": {},
   "source": [
    "# Duplicados"
   ]
  },
  {
   "cell_type": "code",
   "execution_count": null,
   "metadata": {},
   "outputs": [],
   "source": [
    "#Crear una lista para almacenar las columnas que causaron problemas\n",
    "columnas_problema = []\n",
    "\n",
    "def check_duplicates(dataframe):\n",
    "    global columnas_problema\n",
    "    \n",
    "    # Crear una lista para almacenar las columnas que se pueden procesar\n",
    "    columnas_procesables = []\n",
    "\n",
    "    for col in dataframe.columns:\n",
    "        try:\n",
    "            # Intentar acceder a los datos de la columna\n",
    "            df_metadata[columnas_procesables].append(col)\n",
    "        except Exception as e:\n",
    "            columnas_problema.append(col)\n",
    "            \n",
    "\n",
    "    # Crear un DataFrame solo con las columnas procesables\n",
    "    df_procesable = dataframe[columnas_procesables]\n",
    "    \n",
    "    # Verificar duplicados en el DataFrame procesable\n",
    "    try:\n",
    "        duplicados = df_procesable.duplicated()\n",
    "        num_duplicados = duplicados.sum()\n",
    "        if num_duplicados > 0:\n",
    "            print(f\"Número de filas duplicadas en el DataFrame: {num_duplicados}\")\n",
    "            print(\"Filas duplicadas:\")\n",
    "            print(dataframe[duplicados])\n",
    "        else:\n",
    "            print(\"No hay filas duplicadas en el DataFrame.\")\n",
    "    except Exception as e:\n",
    "        print(f\"Error al verificar duplicados en el DataFrame procesable: {e}\")\n",
    "\n",
    "# Verificar duplicados en el DataFrame\n",
    "check_duplicates(df_metadata)\n",
    "\n",
    "# Listar las columnas problemáticas\n",
    "if columnas_problema:\n",
    "    print(\"Columnas que no pueden ser accedidas:\")\n",
    "    for col in columnas_problema:\n",
    "        print(col)\n",
    "        "
   ]
  },
  {
   "cell_type": "markdown",
   "metadata": {},
   "source": [
    "# Outliers"
   ]
  },
  {
   "cell_type": "code",
   "execution_count": null,
   "metadata": {},
   "outputs": [],
   "source": [
    "def calculate_outliers_iqr(column):\n",
    "    # Eliminar valores nulos antes de calcular\n",
    "    column = column.dropna()\n",
    "\n",
    "    # Calcular Q1 (primer cuartil) y Q3 (tercer cuartil)\n",
    "    Q1 = column.quantile(0.25)\n",
    "    Q3 = column.quantile(0.75)\n",
    "    IQR = Q3 - Q1\n",
    "\n",
    "    # Definir los límites para identificar outliers\n",
    "    lower_bound = Q1 - 1.5 * IQR\n",
    "    upper_bound = Q3 + 1.5 * IQR\n",
    "\n",
    "    # Identificar los outliers\n",
    "    outliers = column[(column < lower_bound) | (column > upper_bound)]\n",
    "\n",
    "    return outliers\n",
    "\n",
    "# Aplicar la función a `avg_rating`\n",
    "avg_rating_outliers = calculate_outliers_iqr(df_metadata['avg_rating'])\n",
    "print(\"Outliers en avg_rating:\")\n",
    "print(avg_rating_outliers)"
   ]
  },
  {
   "cell_type": "code",
   "execution_count": null,
   "metadata": {},
   "outputs": [],
   "source": [
    "# Crear el boxplot para visualizar los outliers\n",
    "plt.figure(figsize=(10, 6))  # Crear una nueva figura con tamaño específico\n",
    "plt.boxplot(df_metadata['avg_rating'].dropna(), vert=False, patch_artist=True)  # Crear el boxplot\n",
    "plt.title('Boxplot de avg_rating')  # Título del gráfico\n",
    "plt.xlabel('avg_rating')  # Etiqueta del eje X\n",
    "plt.show()  # Mostrar el gráfico"
   ]
  },
  {
   "cell_type": "markdown",
   "metadata": {},
   "source": [
    "La mayoría de los ítems (probablemente productos o servicios) reciben calificaciones promedio bastante positivas, con la mayor parte entre 3.8 y 4.5.\n",
    "Hay una cantidad significativa de outliers con calificaciones bajas, lo que podría indicar algunos ítems problemáticos o experiencias negativas consistentes para ciertos productos/servicios.\n",
    "La asimetría sugiere que es más común ver calificaciones muy bajas que calificaciones perfectas de 5.0.\n",
    "La concentración de calificaciones en el rango alto podría indicar una tendencia general de satisfacción del usuario o posiblemente un sesgo positivo en el sistema de calificación."
   ]
  },
  {
   "cell_type": "code",
   "execution_count": null,
   "metadata": {},
   "outputs": [],
   "source": [
    "# Crear histograma para `avg_rating`\n",
    "plt.figure(figsize=(12, 6))\n",
    "plt.hist(df_metadata['avg_rating'].dropna(), bins=30, edgecolor='black', alpha=0.7)\n",
    "plt.title('Histograma de avg_rating')\n",
    "plt.xlabel('avg_rating')\n",
    "plt.ylabel('Frecuencia')\n",
    "plt.grid(True)\n",
    "plt.show()"
   ]
  },
  {
   "cell_type": "markdown",
   "metadata": {},
   "source": [
    "La alta concentración de calificaciones de 5 estrellas podría indicar una tendencia de los usuarios a dar calificaciones perfectas con frecuencia, posiblemente inflando las calificaciones generales.\n",
    "El sesgo hacia calificaciones altas podría deberse a varios factores:\n",
    "\n",
    "Satisfacción general alta con los productos/servicios.\n",
    "Tendencia de los usuarios satisfechos a dejar más reseñas que los insatisfechos.\n",
    "Posible sesgo de selección donde los usuarios compran productos que esperan les gusten.\n",
    "Posible presencia de reseñas falsas o incentivadas que tienden a ser muy positivas.\n",
    "\n",
    "\n",
    "La relativamente baja frecuencia de calificaciones medias (2.5-3.5) sugiere que los usuarios tienden a tener opiniones más polarizadas.\n",
    "El pequeño pico en 1.0 podría representar usuarios muy insatisfechos o productos problemáticos.\n",
    "La granularidad observada en valores enteros y medios sugiere que muchos usuarios simplifican sus calificaciones, lo que podría afectar la precisión de las calificaciones promedio."
   ]
  },
  {
   "cell_type": "code",
   "execution_count": null,
   "metadata": {},
   "outputs": [],
   "source": [
    "# Aplicar la función a `num_of_reviews`\n",
    "num_of_reviews_outliers = calculate_outliers_iqr(df_metadata['num_of_reviews'])\n",
    "print(\"Outliers en num_of_reviews:\")\n",
    "print(num_of_reviews_outliers)\n"
   ]
  },
  {
   "cell_type": "code",
   "execution_count": null,
   "metadata": {},
   "outputs": [],
   "source": [
    "# Crear el boxplot para visualizar los outliers\n",
    "plt.figure(figsize=(10, 6))  # Crear una nueva figura con tamaño específico\n",
    "plt.boxplot(df_metadata['num_of_reviews'].dropna(), vert=False, patch_artist=True)  # Crear el boxplot\n",
    "plt.title('Boxplot de num_of_reviews')  # Título del gráfico\n",
    "plt.xlabel('num_of_reviews')  # Etiqueta del eje X\n",
    "plt.show()  # Mostrar el gráfico"
   ]
  },
  {
   "cell_type": "markdown",
   "metadata": {},
   "source": [
    "La gran mayoría de los elementos (probablemente productos o servicios) tienen muy pocas reseñas. Esto podría indicar que muchos productos son nuevos, poco populares, o que los usuarios no tienden a dejar reseñas con frecuencia.\n",
    "Hay un pequeño número de elementos \"superestrellas\" que han acumulado un número excepcionalmente alto de reseñas. Estos podrían ser productos muy populares, best-sellers, o elementos que han estado en el mercado por mucho tiempo.\n",
    "La distribución sugiere una \"economía de los superestrellas\" donde unos pocos productos acaparan la mayoría de la atención y las reseñas, mientras que la gran mayoría recibe poca atención.\n",
    "Esta distribución podría afectar la confiabilidad de las calificaciones promedio, ya que muchos productos tienen muy pocas reseñas para ser estadísticamente significativas.\n",
    "Para análisis futuros, podría ser útil considerar separadamente los productos con un número significativo de reseñas de aquellos con muy pocas.\n",
    "Desde una perspectiva de negocio, esto podría indicar oportunidades para fomentar más reseñas en la mayoría de los productos, o para entender qué hace que ciertos productos obtengan tantas reseñas."
   ]
  },
  {
   "cell_type": "code",
   "execution_count": null,
   "metadata": {},
   "outputs": [],
   "source": [
    "# Crear histograma para `num_of_reviews`\n",
    "plt.figure(figsize=(12, 6))\n",
    "plt.hist(df_metadata['num_of_reviews'].dropna(), bins=30, edgecolor='black', alpha=0.7)\n",
    "plt.title('Histograma de num_of_reviews')\n",
    "plt.xlabel('num_of_reviews')\n",
    "plt.ylabel('Frecuencia')\n",
    "plt.grid(True)\n",
    "plt.show()"
   ]
  },
  {
   "cell_type": "markdown",
   "metadata": {},
   "source": [
    "La gran mayoría de los elementos (productos/servicios) tienen muy pocas reseñas, posiblemente incluso cero. Esto podría indicar:\n",
    "a) Muchos productos nuevos o poco conocidos en el catálogo.\n",
    "b) Baja participación de los usuarios en dejar reseñas para la mayoría de los productos.\n",
    "c) Un catálogo muy extenso con muchos productos de nicho.\n",
    "Solo una pequeña fracción de los elementos recibe un número significativo de reseñas. Estos podrían ser:\n",
    "a) Productos muy populares o best-sellers.\n",
    "b) Productos que han estado en el mercado por mucho tiempo.\n",
    "c) Productos que por alguna razón generan más engagement de los usuarios.\n",
    "Esta distribución plantea desafíos para la interpretación de las calificaciones promedio:\n",
    "a) Para la mayoría de los productos, las calificaciones promedio podrían no ser estadísticamente significativas debido al bajo número de reseñas.\n",
    "b) Los productos con muchas reseñas podrían dominar las métricas generales del sistema.\n",
    "\n",
    "Sugerencias para el cliente: \n",
    "Necesidad de estrategias para incentivar más reseñas en la mayoría de los productos.\n",
    "Posible revisión de la visibilidad o relevancia de productos con pocas o ninguna reseña.\n",
    "Considerar ponderaciones o ajustes en los sistemas de recomendación para no favorecer excesivamente a los productos con muchas reseñas.\n",
    "Investigar qué factores contribuyen a que ciertos productos obtengan muchas más reseñas que otros."
   ]
  },
  {
   "cell_type": "markdown",
   "metadata": {},
   "source": [
    "## Conclusión"
   ]
  },
  {
   "cell_type": "markdown",
   "metadata": {},
   "source": [
    "Hay columnas con una cantidad significativa de valores vacíos (como description, price, hours, MISC, state, relative_results). Se espera manipular estos datos en el proceso de ETL.\n",
    "Las columnas latitude, longitude, avg_rating, y num_of_reviews parecen estar completas y en su mayoría bien formateadas, lo que es positivo para el análisis.\n",
    "\n",
    "La mayoría de los negocios tienen calificaciones promedio bastante altas, con la mayoría de las calificaciones entre 3.8 y 4.5. Sin embargo, hay una notable cantidad de outliers con calificaciones bajas y un pequeño pico en 1.0, lo que podría indicar algunos problemas con ciertos negocios o experiencias negativas consistentes.\n",
    "\n",
    "La distribución de reseñas muestra que la mayoría de los negocios tienen pocas reseñas, lo que sugiere que muchos negocios son nuevos o menos conocidos. Sin embargo, hay un pequeño número de negocios con un número excepcionalmente alto de reseñas.\n",
    "\n",
    "La alta concentración de calificaciones de 5 estrellas podría ser un indicativo de un sesgo positivo en el sistema de calificaciones. Esto podría ser resultado de una satisfacción general alta, una tendencia de usuarios satisfechos a dejar más reseñas, o incluso reseñas incentivadas.\n",
    "\n",
    "La baja frecuencia de calificaciones medias sugiere que los usuarios tienden a ser más polarizados en sus opiniones, dando calificaciones muy altas o muy bajas.\n",
    "\n",
    "La distribución de reseñas sugiere que unos pocos negocios reciben la mayoría de la atención y reseñas, mientras que la mayoría recibe muy poca. Esto puede indicar oportunidades para aumentar la visibilidad de productos menos reseñados o entender por qué ciertos negocios reciben tantas reseñas.\n",
    "\n",
    "De aquí se deduce que se puede mejorar en:\n",
    "Desarrollar estrategias para aumentar el número de reseñas en la mayoría de los productos, especialmente en aquellos con pocas o ninguna reseña.\n",
    "Considerar la visibilidad o relevancia de productos con pocas reseñas para mejorar su presencia.\n",
    "Ajustar los sistemas de recomendación para no favorecer excesivamente a los negocios con muchas reseñas. Esto podría implicar ponderar las reseñas de manera que reflejen mejor la calidad general del negocio.\n",
    "Investigar los factores que contribuyen a que ciertos negocios reciban muchas más reseñas que otros, lo cual puede proporcionar insights para mejorar las estrategias de marketing y engagement.\n",
    "\n"
   ]
  },
  {
   "cell_type": "markdown",
   "metadata": {},
   "source": [
    "# DATOS_MACROECONOMICOS"
   ]
  },
  {
   "cell_type": "code",
   "execution_count": null,
   "metadata": {},
   "outputs": [],
   "source": [
    "df_macro.head(10)"
   ]
  },
  {
   "cell_type": "code",
   "execution_count": null,
   "metadata": {},
   "outputs": [],
   "source": [
    "df_macro.info()"
   ]
  },
  {
   "cell_type": "code",
   "execution_count": null,
   "metadata": {},
   "outputs": [],
   "source": [
    "df_2023 = df_macro[df_macro['Fecha'] == 2023]"
   ]
  },
  {
   "cell_type": "markdown",
   "metadata": {},
   "source": [
    "Introducción a la sección:\n",
    "\n",
    "Al considerar la viabilidad de abrir un negocio o expandirse en un nuevo mercado, es crucial evaluar una serie de variables económicas y demográficas que proporcionan una visión integral del entorno empresarial. Entre las variables que consideramos mas importantes para analizar encontramos la población, la densidad poblacional, el PIB y el PIB per cápita, las cuales son fundamentales para entender el potencial de un mercado y las oportunidades de crecimiento del mismo.\n",
    "\n",
    "Al evaluar la población podemos llegar a entender el tamaño del mercado, la densidad poblacional nos permitira identificar cómo están distribuidos los consumidores, y el PIB y el PIB per cápita brindaran información sobre la capacidad económica y el poder adquisitivo de los residentes de un determinado lugar. \n",
    "\n",
    "Tomar en cuenta estas variables nos permitira tomar una decision informada sobre en cual de lo estados de EE.UU. tenemos que dirigir nuestra lupa para analizar la información obtenida de Yelp y de Google maps con el objetivo de diseñar una estrategias de marketing efectiva, un sistema de recomendaciones y adaptar una oferta a las necesidades y expectativas del mercado objetivo que escojamos.\n"
   ]
  },
  {
   "cell_type": "code",
   "execution_count": null,
   "metadata": {},
   "outputs": [],
   "source": [
    "top_5_states = df_2023.nlargest(10, 'Poblacion')\n",
    "\n",
    "# Crear el gráfico de barras con todos los estados\n",
    "plt.figure(figsize=(10, 6))\n",
    "bars = plt.bar(df_2023['ESTADO'], df_2023['Poblacion'], color='skyblue')\n",
    "plt.xlabel('Estado')\n",
    "plt.ylabel('Población')\n",
    "plt.title('Población de los Estados en 2023')\n",
    "plt.xticks(rotation=90)\n",
    "\n",
    "# Añadir los valores de población encima de las barras solo para los 5 estados con mayor población\n",
    "for bar, estado in zip(bars, df_2023['ESTADO']):\n",
    "    if estado in top_5_states['ESTADO'].values:\n",
    "        yval = bar.get_height()\n",
    "        yval_formatted = f'{yval:,.0f}'  # Formatear con puntos para separar los miles\n",
    "        plt.text(bar.get_x() + bar.get_width()/2, yval, yval_formatted, va='bottom', ha='center', fontsize=10)\n",
    "\n",
    "plt.tight_layout()\n",
    "plt.show()"
   ]
  },
  {
   "cell_type": "markdown",
   "metadata": {},
   "source": [
    "## Población \n",
    "\n",
    "- La población de una región indica el tamaño del mercado potencial disponible para un negocio. Una mayor población sugiere un mercado más grande con más clientes potenciales, lo que puede traducirse en mayores oportunidades de ventas y crecimiento. Por ejemplo, abrir un negocio en una ciudad con una gran población podría atraer a más clientes y generar más ingresos en comparación con una localidad con una población más pequeña.\n",
    "\n",
    "- En estados con grandes poblaciones como lo son California, Texas, Florida,New York y Pensilvania se tiene una base amplia de clientes potenciales. Esto aumenta la posibilidad de atraer una cantidad significativa de clientes y generar ventas consistentes.\n",
    "\n",
    "- Más personas en una área significa mayor exposición para el negocio, lo que puede facilitar que el negocio sea conocido y se convierta en un punto de referencia local.\n",
    "\n",
    "- Las campañas publicitarias pueden beneficiarse dado la mayor concentración de audiencia. La publicidad en medios locales, como televisión, radio, y redes sociales, puede alcanzar a una gran cantidad de personas de manera más efectiva.\n",
    "\n",
    "- En regiones con alta población, los negocios pueden beneficiarse de economías de escala. La producción y operación en grandes volúmenes pueden reducir los costos unitarios. Esto significa que un negocio puede operar de manera más eficiente y con mayores márgenes de ganancia en áreas con alta densidad poblacional debido al mayor volumen de ventas.\n",
    "\n",
    "- La densidad poblacional y el tamaño de la población pueden influir en la competencia en el mercado. En áreas con alta población, es posible que haya una mayor concentración de competidores, lo que puede aumentar la competencia pero también validar la demanda de productos o servicios similares. En contraste, en áreas con baja población, la competencia puede ser menor, pero la demanda también podría ser más limitada.\n"
   ]
  },
  {
   "cell_type": "code",
   "execution_count": null,
   "metadata": {},
   "outputs": [],
   "source": [
    "top_5_states = df_2023.nlargest(10, 'PIB anual M$')\n",
    "\n",
    "# Crear el gráfico de barras con todos los estados\n",
    "plt.figure(figsize=(10, 6))\n",
    "bars = plt.bar(df_2023['ESTADO'], df_2023['PIB anual M$'], color='green')\n",
    "plt.xlabel('Estado')\n",
    "plt.ylabel('PIB anual M$')\n",
    "plt.title('PIB anual de los Estados en 2023')\n",
    "plt.xticks(rotation=90)\n",
    "\n",
    "# Añadir los valores de población encima de las barras solo para los 5 estados con mayor población\n",
    "for bar, estado in zip(bars, df_2023['ESTADO']):\n",
    "    if estado in top_5_states['ESTADO'].values:\n",
    "    yval = bar.get_height()\n",
    "    yval_formatted = f'{yval:,.0f}'  # Formatear con puntos para separar los miles\n",
    "    plt.text(bar.get_x() + bar.get_width()/2, yval, yval_formatted, va='bottom', ha='center', fontsize=10)\n",
    "\n",
    "plt.tight_layout()\n",
    "plt.show()"
   ]
  },
  {
   "cell_type": "markdown",
   "metadata": {},
   "source": [
    "## Producto Interno Bruto\n",
    "\n",
    "El PIB indica el tamaño y la salud económica de un estado. Un PIB alto sugiere una economía fuerte con una alta capacidad de gasto, lo cual es favorable para negocios que buscan mercados con poder adquisitivo.\n",
    "\n",
    "### Descripción Grafica \n",
    "\n",
    "De acuerdo a la grafica, el estado con mayor PIB en el año 2023 fue California con un PIB de 3.862.171 M$. Seguido muy de lejos por Texas con 2.563.508 M$ y Nueva York con \n",
    "2.152.262 M$\n",
    "\n",
    "## Beneficios de un PIB alto para un negocio\n",
    "\n",
    "- Los estados con un alto PIB pueden permitirse realizar grandes inversiones en infraestructura, como transporte, tecnología y energía, que a su vez fomentan el crecimiento económico. Este entorno favorable que crean, sirve para el crecimiento de empresas y startups. La disponibilidad de capital y recursos fomenta el emprendimiento y la innovación.\n",
    "\n",
    "- De igual forma este tipo de estados suelen tener un alto poder adquisitivo entre sus habitantes. Esto significa que los consumidores están dispuestos a gastar más en bienes y servicios, lo que puede traducirse en mayores ventas e ingresos para el negocio.\n",
    "\n",
    "### Poblacion y PIB\n",
    "\n",
    "La alta población y el poder adquisitivo en estados como California proporcionan un mercado grande y diversificado para los productos o servicios de un negocio, facilitando su escalabilidad.\n",
    "\n",
    "La presencia de múltiples sectores económicos en estos estados permite al negocio diversificar sus ofertas y adaptarse a diferentes segmentos del mercado."
   ]
  },
  {
   "cell_type": "code",
   "execution_count": null,
   "metadata": {},
   "outputs": [],
   "source": [
    "mean_density = df_2023['Densidad'].mean()\n",
    "\n",
    "# Filtrar los 12 estados con mayor densidad\n",
    "top_5_states = df_2023.nlargest(12, 'Densidad')\n",
    "\n",
    "# Crear el gráfico de barras con todos los estados\n",
    "plt.figure(figsize=(10, 6))\n",
    "bars = plt.bar(df_2023['ESTADO'], df_2023['Densidad'], color='red')\n",
    "plt.xlabel('Estado')\n",
    "plt.ylabel('Densidad')\n",
    "plt.title('Densidad Poblacional por Estados en 2023')\n",
    "plt.xticks(rotation=90)\n",
    "\n",
    "# Añadir la línea de la media de densidades\n",
    "plt.axhline(y=mean_density, color='blue', linestyle='--', linewidth=2, label=f'Media de Densidad: {mean_density:.2f}')\n",
    "\n",
    "# Añadir los valores de densidad encima de las barras solo para los 5 estados con mayor densidad\n",
    "for bar, estado in zip(bars, df_2023['ESTADO']):\n",
    "    if estado in top_5_states['ESTADO'].values:\n",
    "        yval = bar.get_height()\n",
    "        yval_formatted = f'{yval:,.0f}'  # Formatear con puntos para separar los miles\n",
    "        plt.text(bar.get_x() + bar.get_width() / 2, yval, yval_formatted, va='bottom', ha='center', fontsize=10)\n",
    "\n",
    "# Añadir la leyenda\n",
    "plt.legend()\n",
    "\n",
    "plt.tight_layout()\n",
    "plt.show()"
   ]
  },
  {
   "cell_type": "markdown",
   "metadata": {},
   "source": [
    "## Densidad Poblacional\n",
    "Es la Cantidad de personas que en promedio habitan por kilómetros cuadrados un area determinada. Tomamos esta variable para evalúaR la viabilidad de abrir un nuevo negocio o expandirse en una determinada área dado que: \n",
    "\n",
    "## Beneficios de una densidad Poblacional alta para un negocio\n",
    "\n",
    "- Los estados con alta densidad poblacional tienen un mayor número de personas por área, lo que significa más clientes potenciales en un radio más pequeño. Esto puede traducirse en mayores ventas y una base de clientes más estable.\n",
    "\n",
    "- Una mayor concentración de personas generalmente se traduce en una mayor demanda de productos y servicios, lo que puede llevar a un flujo constante de clientes y mayores ingresos.\n",
    "\n",
    "- En lugares con alta densidad,los costos fijos, como el alquiler y los servicios, pueden distribuirse entre más clientes, lo que mejora la rentabilidad.\n",
    "\n",
    "- En áreas densamente pobladas, el Marketing digital con sus respectivas estrategias de comunicación por redes puede ser más eficiente porque un anuncio puede llegar a más personas en un área más pequeña, reduciendo los costos por impresión o impacto\n",
    "\n",
    "### Descripción Grafica \n",
    "\n",
    "- Dentro de la grafica podemos visulizar que los Estados con mayor densidad Poblacional son Nueva Jersey,Rhode Island,Connecticut, Massachusetts y Maryland\n",
    "\n",
    "- La media de la densidad de todos los estados es de 67.55 personas por kilometro cuadrado\n",
    "\n",
    "- De los estados con mayor Población y PIB encontramos por encima de la media de densidad a New York, Florida, California e Illinois.\n",
    "\n",
    "### Densidad Poblacional y PIB\n",
    "\n",
    "la combinación de un alto PIB y una alta densidad poblacional puede crear un entorno económico dinámico y próspero, ofreciendo un mercado vasto y diverso para negocios de todos los sectores. Por esta razon estados como New York, Florida, California e Illinois toman mas fuerza a la hora de decidir cual escoger para nuestro analisis. \n"
   ]
  },
  {
   "cell_type": "code",
   "execution_count": null,
   "metadata": {},
   "outputs": [],
   "source": [
    "top_5_states = df_2023.nlargest(5, 'PIB Per Capita $')\n",
    "\n",
    "# Crear el gráfico de barras con todos los estados\n",
    "plt.figure(figsize=(10, 6))\n",
    "bars = plt.bar(df_2023['ESTADO'], df_2023['PIB Per Capita $'], color='black')\n",
    "plt.xlabel('Estado')\n",
    "plt.ylabel('PIB Per Capita $')\n",
    "plt.title('PIB Per Capita por Estados en 2023')\n",
    "plt.xticks(rotation=90)\n",
    "\n",
    "# Añadir los valores de población encima de las barras solo para los 5 estados con mayor población\n",
    "for bar, estado in zip(bars, df_2023['ESTADO']):\n",
    "    if estado in top_5_states['ESTADO'].values:\n",
    "    yval = bar.get_height()\n",
    "    yval_formatted = f'{yval:,.0f}'  # Formatear con puntos para separar los miles\n",
    "    plt.text(bar.get_x() + bar.get_width()/2, yval, yval_formatted, va='bottom', ha='center', fontsize=10)\n",
    "\n",
    "plt.tight_layout()\n",
    "plt.show()"
   ]
  },
  {
   "cell_type": "markdown",
   "metadata": {},
   "source": [
    "## PIB per capita\n",
    "\n",
    "El PIB per cápita proporciona una visión de la renta media de los residentes de un\n",
    "Estado. Un PIB per cápita alto indica un alto nivel de ingresos individuales o lo que se conoce como mayor poder adquisitivo. \n",
    "\n",
    "Tomamos esta variable en nuestro analisis para poder identificar los estados que tengan mercados mas desarrollados capaces de soportar negocios que ofrezcan productos o servicios sin importar si son o no de lujo o premium \n",
    "\n",
    "En la grafica podemos observar que los estados con mayor PIB per capita son: New York, Massachusetts, Washington y California. Esto puede llegar a indicar que en estos estados dados los altos ingresos de sus habitantes,existe un mayor consumo de bienes y servicios.\n",
    "\n",
    "## Beneficios de una PIB per capita alto para un negocio\n",
    "\n",
    "- Una alta capacidad adquisitiva permite a un negocio diversificar su oferta de productos y servicios para satisfacer diferentes segmentos del mercado.\n",
    "\n",
    "- Un PIB per cápita alto suele indicar una economía estable y en crecimiento, lo que proporciona un entorno empresarial más predecible y seguro.\n",
    "\n"
   ]
  },
  {
   "cell_type": "code",
   "execution_count": null,
   "metadata": {},
   "outputs": [],
   "source": [
    "# Lista de estados de interés\n",
    "estados_interes = ['California', 'Nueva York', 'Florida', 'Illinois', 'Massachusetts', 'Texas']\n",
    "# Filtrar los datos para incluir solo los estados de interés\n",
    "df_filtrado = df_macro[df_macro['ESTADO'].isin(estados_interes)]\n",
    "\n",
    "# Crear la gráfica de tendencia\n",
    "plt.figure(figsize=(12, 8))\n",
    "\n",
    "# Graficar cada estado por separado\n",
    "for estado in estados_interes:\n",
    "    df_estado = df_filtrado[df_filtrado['ESTADO'] == estado]\n",
    "    plt.plot(df_estado['Fecha'], df_estado['PIB anual M$'], marker='o', label=estado)\n",
    "    \n",
    "    # Mostrar los valores en cada punto\n",
    "    for x, y in zip(df_estado['Fecha'], df_estado['PIB anual M$']):\n",
    "        plt.text(x, y, f'{y:,.0f}', fontsize=9, ha='right')\n",
    "\n",
    "plt.xlabel('Año')\n",
    "plt.ylabel('PIB anual M$')\n",
    "plt.title('Tendencia del PIB Anual (2019-2023)')\n",
    "plt.legend()\n",
    "plt.grid(True)\n",
    "\n",
    "# Asegurarse de que los años se muestren sin decimales y evitar duplicaciones\n",
    "plt.gca().xaxis.set_major_formatter(plt.FuncFormatter(lambda x, _: f'{int(x)}'))\n",
    "plt.gca().xaxis.set_major_locator(plt.MaxNLocator(integer=True))\n",
    "\n",
    "plt.tight_layout()\n",
    "plt.show()"
   ]
  },
  {
   "cell_type": "markdown",
   "metadata": {},
   "source": [
    "Conclusión de sección\n",
    "\n",
    "# ¿Por qué California?\n",
    "\n",
    "\n",
    "California, siendo el estado con la mayor población y el PIB más alto de los 50 estados de EE.UU., representa una de las economías más grandes y dinámicas a nivel nacional. Su perfil económico y demográfico ofrece una oportunidad única para la creación o expansión de negocios.\n",
    "\n",
    "- Cuenta con una población considerablemente grande, lo cual se traduce en un mercado amplio con una base de consumidores extensa. Este gran número de habitantes significa una mayor demanda potencial para una variedad de productos y servicios. Además, una mayor población implica una diversidad de segmentos de mercado, lo cual puede permitir a las empresas adaptar sus ofertas a diferentes necesidades y preferencias.\n",
    "\n",
    "- El elevado PIB de California indica que el estado tiene una economía robusta y de alto rendimiento. Esto sugiere un ambiente empresarial favorable, con un alto poder adquisitivo entre los residentes. Un PIB alto generalmente está asociado con una mayor capacidad de gasto y una infraestructura económica avanzada, lo que facilita la operación y el crecimiento de nuevos negocios.\n",
    "\n",
    "- El alto PIB per cápita en California refleja una población con un ingreso medio superior. Esto es crucial para las empresas que buscan ingresar a un mercado donde los consumidores tienen la capacidad financiera para adquirir productos y servicios premium. Un alto PIB per cápita indica un mercado con un mayor poder adquisitivo, lo cual es atractivo para negocios que ofrecen bienes y servicios de alta gama.\n",
    "\n",
    "\n",
    "- California también se destaca por su alta densidad poblacional en ciertas áreas, como Los Ángeles y San Francisco. Esto significa que hay una concentración significativa de personas en zonas específicas, lo que puede resultar en una mayor visibilidad y accesibilidad para los negocios. Una alta densidad poblacional puede facilitar la captación de clientes y maximizar la eficiencia de las estrategias de marketing al enfocarse en áreas de alta concentración de consumidores."
   ]
  },
  {
   "cell_type": "markdown",
   "metadata": {},
   "source": [
    "# CALIFORNIA"
   ]
  },
  {
   "cell_type": "code",
   "execution_count": null,
   "metadata": {},
   "outputs": [],
   "source": [
    "df_california"
   ]
  },
  {
   "cell_type": "markdown",
   "metadata": {},
   "source": [
    "# Nulos"
   ]
  },
  {
   "cell_type": "code",
   "execution_count": null,
   "metadata": {},
   "outputs": [],
   "source": [
    "df_california.isnull().sum()"
   ]
  },
  {
   "cell_type": "code",
   "execution_count": null,
   "metadata": {},
   "outputs": [],
   "source": [
    "print(df_california[df_california.isnull().any(axis=1)])"
   ]
  },
  {
   "cell_type": "markdown",
   "metadata": {},
   "source": [
    "## Vacíos"
   ]
  },
  {
   "cell_type": "code",
   "execution_count": null,
   "metadata": {},
   "outputs": [],
   "source": [
    "warnings.filterwarnings('ignore')"
   ]
  },
  {
   "cell_type": "code",
   "execution_count": null,
   "metadata": {},
   "outputs": [],
   "source": [
    "def is_empty(x):\n",
    "    if x is None:\n",
    "        return True\n",
    "    elif isinstance(x, (str, list, dict, set, np.ndarray)) and len(x) == 0:\n",
    "        return True\n",
    "    return False\n",
    "\n",
    "# Aplicar la función al DataFrame\n",
    "empty_mask = df_california.applymap(is_empty)\n",
    "\n",
    "# Ver el número de valores vacíos en cada columna\n",
    "print(\"\\nValores vacíos por columna:\")\n",
    "print(empty_mask.sum())\n",
    "\n",
    "# Ver las filas que contienen valores vacíos\n",
    "print(\"\\nFilas con valores vacíos:\")\n",
    "print(df_california[empty_mask.any(axis=1)])"
   ]
  },
  {
   "cell_type": "markdown",
   "metadata": {},
   "source": [
    "# Tipos de datos"
   ]
  },
  {
   "cell_type": "code",
   "execution_count": null,
   "metadata": {},
   "outputs": [],
   "source": [
    "#Evaluamos con qué tipo de datos contamos. Nos interesa buscar especialmente cadenas de texto y números enteros\n",
    "print(df_california.dtypes)"
   ]
  },
  {
   "cell_type": "markdown",
   "metadata": {},
   "source": [
    "# Metadatos"
   ]
  },
  {
   "cell_type": "code",
   "execution_count": null,
   "metadata": {},
   "outputs": [],
   "source": [
    "#Las siguientes celdas muestras información general del dataset\n",
    "df_california.info()"
   ]
  },
  {
   "cell_type": "code",
   "execution_count": null,
   "metadata": {},
   "outputs": [],
   "source": [
    "#imprimir las dimensiones del data frame\n",
    "print(df_california.shape)"
   ]
  },
  {
   "cell_type": "code",
   "execution_count": null,
   "metadata": {},
   "outputs": [],
   "source": [
    "#Visualización de los nombres de las columnas\n",
    "print(df_california.columns)"
   ]
  },
  {
   "cell_type": "code",
   "execution_count": null,
   "metadata": {},
   "outputs": [],
   "source": [
    "# Datos estadísticos\n",
    "print(df_california.describe())       #Se procederá en el ETL a transformar la notación"
   ]
  },
  {
   "cell_type": "code",
   "execution_count": null,
   "metadata": {},
   "outputs": [],
   "source": [
    "#Muestra de valores únicos de ID de usuarios\n",
    "unique_misc = df_california['user_id'].unique()\n",
    "print(len(unique_misc))\n"
   ]
  },
  {
   "cell_type": "code",
   "execution_count": null,
   "metadata": {},
   "outputs": [],
   "source": [
    "#Muestra de valores únicos de ID de locación\n",
    "unique_misc = df_california['gmap_id'].unique()\n",
    "print(len(unique_misc))"
   ]
  },
  {
   "cell_type": "markdown",
   "metadata": {},
   "source": [
    "# Duplicados"
   ]
  },
  {
   "cell_type": "code",
   "execution_count": null,
   "metadata": {},
   "outputs": [],
   "source": [
    "#Crear una lista para almacenar las columnas que causaron problemas\n",
    "columnas_problema = []\n",
    "\n",
    "def check_duplicates(dataframe):\n",
    "    global columnas_problema\n",
    "    \n",
    "    # Crear una lista para almacenar las columnas que se pueden procesar\n",
    "    columnas_procesables = []\n",
    "\n",
    "    for col in dataframe.columns:\n",
    "        try:\n",
    "            # Intentar acceder a los datos de la columna\n",
    "            df_california[columnas_procesables].append(col)\n",
    "        except Exception as e:\n",
    "            columnas_problema.append(col)\n",
    "            \n",
    "\n",
    "    # Crear un DataFrame solo con las columnas procesables\n",
    "    df_procesable = dataframe[columnas_procesables]\n",
    "    \n",
    "    # Verificar duplicados en el DataFrame procesable\n",
    "    try:\n",
    "        duplicados = df_procesable.duplicated()\n",
    "        num_duplicados = duplicados.sum()\n",
    "        if num_duplicados > 0:\n",
    "            print(f\"Número de filas duplicadas en el DataFrame: {num_duplicados}\")\n",
    "            print(\"Filas duplicadas:\")\n",
    "            print(dataframe[duplicados])\n",
    "        else:\n",
    "            print(\"No hay filas duplicadas en el DataFrame.\")\n",
    "    except Exception as e:\n",
    "        print(f\"Error al verificar duplicados en el DataFrame procesable: {e}\")\n",
    "\n",
    "# Verificar duplicados en el DataFrame\n",
    "check_duplicates(df_california)\n",
    "\n",
    "# Listar las columnas problemáticas\n",
    "if columnas_problema:\n",
    "    print(\"Columnas que no pueden ser accedidas:\")\n",
    "    for col in columnas_problema:\n",
    "        print(col)\n",
    "        "
   ]
  },
  {
   "cell_type": "markdown",
   "metadata": {},
   "source": [
    "# Outliers"
   ]
  },
  {
   "cell_type": "code",
   "execution_count": null,
   "metadata": {},
   "outputs": [],
   "source": [
    "# Función para calcular outliers usando el rango intercuartílico (IQR)\n",
    "def calculate_outliers_iqr(series):\n",
    "    Q1 = series.quantile(0.25)\n",
    "    Q3 = series.quantile(0.75)\n",
    "    IQR = Q3 - Q1\n",
    "    lower_bound = Q1 - 1.5 * IQR\n",
    "    upper_bound = Q3 + 1.5 * IQR\n",
    "    return series[(series < lower_bound) | (series > upper_bound)]\n",
    "\n",
    "# Aplicar la función a la columna `rating`\n",
    "rating_outliers = calculate_outliers_iqr(df_california['rating'])\n",
    "print(\"Outliers en rating:\")\n",
    "print(rating_outliers)"
   ]
  },
  {
   "cell_type": "code",
   "execution_count": null,
   "metadata": {},
   "outputs": [],
   "source": [
    "# Aplicar la función a la columna `time`\n",
    "time_outliers = calculate_outliers_iqr(df_california['time'])\n",
    "print(\"Outliers en time:\")\n",
    "print(time_outliers)\n"
   ]
  },
  {
   "cell_type": "code",
   "execution_count": null,
   "metadata": {},
   "outputs": [],
   "source": [
    "# Boxplot para la columna 'rating'\n",
    "plt.subplot(1, 2, 1)\n",
    "sns.boxplot(data=df_california, x='rating')\n",
    "plt.title('Boxplot de Rating')\n",
    "\n",
    "# Boxplot para la columna 'time'\n",
    "plt.subplot(1, 2, 2)\n",
    "sns.boxplot(data=df_california, x='time')\n",
    "plt.title('Boxplot de Time')\n",
    "\n",
    "# Mostrar los gráficos\n",
    "plt.tight_layout()\n",
    "plt.show()"
   ]
  },
  {
   "cell_type": "markdown",
   "metadata": {},
   "source": [
    "Boxplot de Rating:\n",
    "\n",
    "La escala va de 1 a 5, lo que sugiere que podría ser una escala de calificación típica.\n",
    "La mediana (línea horizontal dentro de la caja) está cerca de 4.\n",
    "La caja, que representa el rango intercuartílico (IQR), se extiende aproximadamente de 3.5 a 5.\n",
    "Hay algunos valores atípicos (outliers) en el extremo inferior, representados por círculos cerca de 1 y 2.\n",
    "La distribución parece estar sesgada hacia los valores más altos, ya que la caja está más comprimida en la parte superior.\n",
    "\n",
    "\n",
    "Boxplot de Time:\n",
    "\n",
    "La mediana está cerca de 1.4.\n",
    "La caja es muy estrecha, lo que indica que el 50% central de los datos está muy concentrado.\n",
    "Hay una gran cantidad de valores atípicos en el extremo inferior, representados por múltiples círculos superpuestos.\n",
    "La distribución parece estar muy sesgada, con la mayoría de los datos concentrados en valores más altos y una \"cola\" larga hacia los valores más bajos.\n",
    "\n",
    "Las calificaciones tienden a ser altas, con la mayoría entre 3.5 y 5, pero con algunos valores bajos atípicos.\n",
    "Los tiempos están muy concentrados alrededor de un valor alto, pero hay muchos casos atípicos con tiempos significativamente menores."
   ]
  },
  {
   "cell_type": "markdown",
   "metadata": {},
   "source": [
    "# Distribución del rating"
   ]
  },
  {
   "cell_type": "code",
   "execution_count": null,
   "metadata": {},
   "outputs": [],
   "source": [
    "# Crear una figura con dos subgráficas\n",
    "plt.figure(figsize=(14, 5))\n",
    "\n",
    "# Histograma y gráfico de densidad para la columna 'rating'\n",
    "plt.subplot(1, 2, 1)\n",
    "sns.histplot(df_california['rating'], kde=True, bins=20)\n",
    "plt.title('Distribución de Rating')\n",
    "plt.xlabel('Rating')\n",
    "plt.ylabel('Frecuencia')\n",
    "\n",
    "\n",
    "# Mostrar los gráficos\n",
    "plt.tight_layout()\n",
    "plt.show()\n"
   ]
  },
  {
   "cell_type": "markdown",
   "metadata": {},
   "source": [
    "Hay dos picos principales, uno en 5.0 y otro menor en 4.0, lo que sugiere una distribución bimodal.\n",
    "El rating de 5.0 tiene la frecuencia más alta, superando los 2 millones de ocurrencias.\n",
    "Hay un pico secundario en 4.0, con alrededor de 0.5 millones de ocurrencias.\n",
    "Hay frecuencias relativamente bajas para los ratings de 1.0, 2.0 y 3.0, aunque 1.0 tiene una frecuencia ligeramente mayor que 2.0 y 3.0.\n",
    "La distribución está fuertemente sesgada hacia los ratings altos (4 y 5).\n",
    "Hay muy pocas calificaciones entre los valores enteros, lo que sugiere que los usuarios tienden a dar calificaciones enteras.\n",
    "La gran diferencia entre las frecuencias de 5.0 y las demás sugiere una tendencia a dar calificaciones extremadamente positivas. (Polarización)\n",
    "\n",
    "Esta distribución es típica en sistemas de calificación online, donde los usuarios tienden a dar calificaciones muy altas o muy bajas, con menos calificaciones intermedias."
   ]
  },
  {
   "cell_type": "markdown",
   "metadata": {},
   "source": [
    "# Nube de palabras de reseñas"
   ]
  },
  {
   "cell_type": "code",
   "execution_count": null,
   "metadata": {},
   "outputs": [],
   "source": [
    "# Función para limpiar el texto\n",
    "def clean_text(text):\n",
    "    text = text.lower()  # Convertir a minúsculas\n",
    "    text = text.translate(str.maketrans('', '', string.punctuation))  # Eliminar puntuación\n",
    "    words = word_tokenize(text)  # Tokenizar\n",
    "    stop_words = set(stopwords.words('english'))  # Stopwords en inglés\n",
    "    words = [word for word in words if word not in stop_words]  # Eliminar stopwords\n",
    "    return ' '.join(words)\n",
    "\n",
    "# Unir todas las reseñas en una sola cadena de texto\n",
    "all_text = ' '.join(df_california['text'].dropna().apply(clean_text))\n",
    "\n",
    "# Crear la nube de palabras\n",
    "wordcloud = WordCloud(width=800, height=400, background_color='white').generate(all_text)\n",
    "\n",
    "# Mostrar la nube de palabras\n",
    "plt.figure(figsize=(12, 6))\n",
    "plt.imshow(wordcloud, interpolation='bilinear')\n",
    "plt.axis('off')  # Ocultar los ejes\n",
    "plt.title('Nube de Palabras de Reseñas')\n",
    "plt.show()"
   ]
  },
  {
   "cell_type": "markdown",
   "metadata": {},
   "source": [
    "Palabras más prominentes:\n",
    "\"great\" (grande, excelente): Es la palabra más destacada, apareciendo en varios tamaños y colores.\n",
    "\"food\" (comida): Muy prominente, sugiriendo que las reseñas son mayormente sobre restaurantes.\n",
    "\"service\" (servicio): También muy destacada, indicando la importancia de la atención al cliente.\n",
    "\"place\" (lugar): Bastante visible, posiblemente refiriéndose al establecimiento en general.\n",
    "\"google\": Notablemente grande, ya que se trata de reseñas de Google Maps.\n",
    "\n",
    "Otras palabras frecuentes:\n",
    "\"friendly\" (amigable)\n",
    "\"staff\" (personal)\n",
    "\"good\" (bueno)\n",
    "\"recommend\" (recomendar)\n",
    "\"translated\" (traducido): Interesante, podría indicar que algunas reseñas fueron traducidas automáticamente.\n",
    "\"customer\" (cliente)\n",
    "\"price\" (precio)\n",
    "\n",
    "Sentimientos expresados:\n",
    "Predominantemente positivos: \"love\", \"excellent\", \"best\", \"helpful\", \"nice\".\n",
    "Algunas palabras neutras: \"first time\", \"back\" (posiblemente \"come back\" o \"went back\").\n",
    "No se observan palabras negativas prominentes.\n",
    "\n",
    "Aspectos del servicio mencionados:\n",
    "\"staff\" y \"friendly\" sugieren un enfoque en el trato del personal.\n",
    "\"price\" indica que el costo es un factor importante.\n",
    "\"experience\" sugiere que los clientes evalúan la experiencia general.\n",
    "\n",
    "Frecuencia y tiempo:\n",
    "\"always\" y \"every time\" indican consistencia en la experiencia.\n",
    "\"first time\" sugiere que hay reseñas de clientes nuevos.\n",
    "\n",
    "Acción y recomendación:\n",
    "\"recommend\" y \"highly recommend\" son prominentes, indicando que muchos clientes recomiendan el lugar o servicio.\n",
    "\"coming back\" sugiere la intención de regresar, lo cual es positivo.\n",
    "\n",
    "Esta nube de palabras sugiere que las reseñas son generalmente muy positivas, con un fuerte énfasis en la calidad de la comida, el servicio y la experiencia general. "
   ]
  },
  {
   "cell_type": "markdown",
   "metadata": {},
   "source": [
    "# Número de reseñas por usuario"
   ]
  },
  {
   "cell_type": "code",
   "execution_count": null,
   "metadata": {},
   "outputs": [],
   "source": [
    "# Convertir el tiempo en formato de fecha\n",
    "df_california['date'] = pd.to_datetime(df['time'], unit='ms')\n",
    "\n",
    "# Extraer el año\n",
    "df_california['year'] = df_california['date'].dt.year\n",
    "\n",
    "# Contar el número de reseñas por usuario y seleccionar los 20 principales\n",
    "review_counts = df_california['user_id'].value_counts().head(20)\n",
    "\n",
    "# Filtrar el DataFrame para solo los 20 usuarios principales\n",
    "top_users = review_counts.index.tolist()\n",
    "df_top_users = df_california[df_california['user_id'].isin(top_users)]\n",
    "\n",
    "# Calcular el número de reseñas por usuario por año\n",
    "review_counts_by_year = df_top_users.groupby(['user_id', 'year']).size().reset_index(name='counts')\n",
    "\n",
    "# Ordenar los años\n",
    "review_counts_by_year = review_counts_by_year.sort_values(by='year')\n",
    "\n",
    "# Calcular el promedio de reseñas por año\n",
    "average_reviews_per_year = review_counts_by_year.groupby('year')['counts'].mean().reset_index(name='average_counts')\n",
    "\n",
    "# Graficar\n",
    "plt.figure(figsize=(14, 8))\n",
    "\n",
    "# Graficar las reseñas por usuario\n",
    "for idx, user_id in enumerate(top_users):\n",
    "    user_data = review_counts_by_year[review_counts_by_year['user_id'] == user_id]\n",
    "    plt.plot(user_data['year'], user_data['counts'], marker='o', label=f'Usuario {idx + 1}')\n",
    "\n",
    "# Graficar la línea de promedio\n",
    "plt.plot(average_reviews_per_year['year'], average_reviews_per_year['average_counts'], color='black', linestyle='--', linewidth=6, label='Promedio Anual')\n",
    "\n",
    "# Configurar el gráfico\n",
    "plt.title('Evolución del Número de Reseñas por Usuario (Top 20) a lo Largo del Tiempo (Anual)')\n",
    "plt.xlabel('Año')\n",
    "plt.ylabel('Número de Reseñas')\n",
    "plt.xticks(rotation=45)\n",
    "plt.legend(title='Usuarios', bbox_to_anchor=(1.05, 1), loc='upper left')\n",
    "plt.grid(True)\n",
    "plt.tight_layout()\n",
    "plt.show()"
   ]
  },
  {
   "cell_type": "markdown",
   "metadata": {},
   "source": [
    "Hay una gran variabilidad entre usuarios y años, pero se observa un pico notable en 2016 seguido de una tendencia decreciente.\n",
    "Pico destacado: El Usuario 1 muestra un pico extraordinario en 2016 con más de 250 reseñas, muy por encima del resto. (Outlier a evaluar)\n",
    "En 2010, varios usuarios (especialmente 1, 3 y 14) muestran una actividad significativa que luego disminuye.\n",
    "Entre 2012 y 2014, la actividad es generalmente baja para la mayoría de los usuarios.\n",
    "A partir de 2016, se observa un aumento general en la actividad de reseñas para varios usuarios.\n",
    "Promedio anual: La línea negra gruesa representa el promedio anual, mostrando una tendencia general que refleja los patrones de actividad colectivos.\n",
    "Tendencia reciente: Hacia 2020-2022, la actividad parece estabilizarse en niveles más bajos para la mayoría de los usuarios.\n",
    "Variabilidad individual: Algunos usuarios muestran patrones muy irregulares, con picos aislados en ciertos años.\n",
    "\n",
    "En resumen, el gráfico muestra una dinámica compleja de la actividad de reseñas, con períodos de alta variabilidad y cambios significativos en los patrones de participación de los usuarios a lo largo del tiempo."
   ]
  },
  {
   "cell_type": "markdown",
   "metadata": {},
   "source": [
    "# Promedio de calificaciones por mes"
   ]
  },
  {
   "cell_type": "code",
   "execution_count": null,
   "metadata": {},
   "outputs": [],
   "source": [
    "# Convertir el tiempo en formato de fecha\n",
    "df_california['date'] = pd.to_datetime(df_california['time'], unit='ms')\n",
    "\n",
    "# Extraer año y mes\n",
    "df_california['year_month'] = df_california['date'].dt.to_period('M')\n",
    "\n",
    "# Calcular el promedio de calificaciones por mes\n",
    "monthly_ratings = df.groupby('year_month')['rating'].mean().reset_index()\n",
    "\n",
    "# Convertir el 'year_month' a formato datetime para usar en el gráfico\n",
    "monthly_ratings['year_month'] = monthly_ratings['year_month'].dt.to_timestamp()\n",
    "\n",
    "# Graficar\n",
    "plt.figure(figsize=(12, 6))\n",
    "plt.scatter(monthly_ratings['year_month'], monthly_ratings['rating'])\n",
    "plt.title('Promedio de Calificaciones por Mes')\n",
    "plt.xlabel('Mes')\n",
    "plt.ylabel('Promedio de Calificaciones')\n",
    "plt.xticks(rotation=45)\n",
    "plt.grid(True)\n",
    "plt.show()"
   ]
  },
  {
   "cell_type": "markdown",
   "metadata": {},
   "source": [
    "A largo plazo, se observa una ligera tendencia al alza en las calificaciones promedio.\n",
    "Hay una gran variabilidad en los datos, especialmente en el período entre 2000 y 2010, donde se ven fluctuaciones extremas.\n",
    "\n",
    "Inicio de los 90s hasta finales de los 90s: Aumento constante y suave.\n",
    "Alrededor del 2000: Caída brusca seguida de alta volatilidad.\n",
    "2010 en adelante: Estabilización relativa con un aumento gradual.\n",
    "\n",
    "Los promedios parecen oscilar principalmente entre 3.0 y 5.0.\n",
    "Se observan algunos picos notables que llegan a 5.0, así como caídas pronunciadas, con el punto más bajo cerca de 2.75.\n",
    "En los últimos años, parece haber una tendencia más estable y ligeramente ascendente.\n",
    "Hay algunos puntos de datos que parecen ser valores atípicos, especialmente durante el período de alta volatilidad.\n",
    "\n",
    "Este gráfico sugiere que ha habido cambios significativos en el sistema de calificación o en los factores que afectan las calificaciones a lo largo del tiempo."
   ]
  },
  {
   "cell_type": "markdown",
   "metadata": {},
   "source": [
    " \"- - - - - - - - - - - - - - - - - - - - - - - - - - - - - - - - - - \""
   ]
  },
  {
   "cell_type": "markdown",
   "metadata": {},
   "source": [
    "La mayoría de las calificaciones se agrupan en los valores extremos, con una clara predominancia de calificaciones de 5.0 (más de 2 millones de ocurrencias) y un pico secundario en 4.0 (alrededor de 0.5 millones).\n",
    "Las calificaciones intermedias (1.0, 2.0 y 3.0) son menos frecuentes, con una notable inclinación hacia calificaciones muy altas (4.0 y 5.0). Esto sugiere que los usuarios tienden a dar calificaciones extremadamente positivas o muy negativas.\n",
    "\n",
    "A lo largo del tiempo, se observa una ligera tendencia al alza en las calificaciones promedio, a pesar de la alta variabilidad y algunos picos y caídas pronunciadas, especialmente entre 2000 y 2010.\n",
    "Esto podría indicar una mejora en la calidad del servicio o una mayor satisfacción de los usuarios en años recientes.\n",
    "\n",
    "Existe un usuario altamente activo (Usuario 1) que contribuye con más de 300 reseñas, lo que representa una proporción significativa del total de reseñas.\n",
    "Los siguientes usuarios más activos tienen una disminución pronunciada en el número de reseñas, con el Usuario 2 aportando alrededor de 140 reseñas y los siguientes 3-5 usuarios con entre 120-130 reseñas cada uno.\n",
    "A partir del Usuario 6, la actividad se distribuye más uniformemente, aunque sigue existiendo una brecha significativa entre el Usuario 1 y el resto.\n",
    "\n",
    "La distribución de reseñas sugiere que un pequeño grupo de usuarios contribuye de manera desproporcionada al número total de reseñas, mientras que la mayoría de los usuarios contribuye de manera menos frecuente.\n",
    "\n",
    "En cuanto al análisis de sentimientos, las palabras más frecuentes en las reseñas son altamente positivas, con términos como \"great\", \"food\", \"service\" y \"recommend\" dominando el contenido.\n",
    "Los sentimientos expresados son principalmente positivos, con pocas palabras negativas prominentes.\n",
    "\n",
    "Las reseñas destacan la calidad de la comida y el servicio, con palabras como \"friendly\", \"staff\", \"price\" y \"experience\" apareciendo con frecuencia.\n",
    "La mayoría de las reseñas parecen centrarse en aspectos positivos de la experiencia, con un enfoque en la calidad del servicio y la comida, y una tendencia a recomendar el lugar.\n",
    "\n",
    "La variabilidad en las calificaciones y en el número de reseñas a lo largo del tiempo sugiere cambios en la percepción de los usuarios o en la calidad del servicio.\n",
    "Los datos indican una estabilización en las calificaciones en años recientes después de un período de alta volatilidad, con una ligera tendencia ascendente.\n",
    "\n",
    "Se observan picos notables y caídas en las calificaciones, lo que podría reflejar cambios en la oferta de servicios, eventos significativos o actualizaciones en el sistema de calificación.\n",
    "\n",
    "# Conclusión general:\n",
    "Calidad General: Las reseñas tomadas de California son en su mayoría muy positivas, con una fuerte inclinación hacia calificaciones de 4.0 y 5.0.\n",
    "Contribución desproporcionada: Un número relativamente pequeño de usuarios contribuye con la mayoría de las reseñas, mientras que la mayoría de los usuarios participa menos activamente.\n",
    "Tendencias Temporales: Hay una ligera tendencia al alza en las calificaciones promedio a lo largo del tiempo, con una gran variabilidad en los datos.\n",
    "Se espera que estos hallazgos puedan ser útiles para nuestro cliente para mejorar estrategias de marketing, optimizar la oferta de servicios y comprender mejor las expectativas y comportamientos de los usuarios en California."
   ]
  }
 ],
 "metadata": {
  "kernelspec": {
   "display_name": "Python 3",
   "language": "python",
   "name": "python3"
  },
  "language_info": {
   "codemirror_mode": {
    "name": "ipython",
    "version": 3
   },
   "file_extension": ".py",
   "mimetype": "text/x-python",
   "name": "python",
   "nbconvert_exporter": "python",
   "pygments_lexer": "ipython3",
   "version": "3.11.9"
  }
 },
 "nbformat": 4,
 "nbformat_minor": 2
}
