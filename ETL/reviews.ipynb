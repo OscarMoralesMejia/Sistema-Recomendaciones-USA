{
 "cells": [
  {
   "cell_type": "markdown",
   "metadata": {},
   "source": [
    "# Etl De las Reviews"
   ]
  },
  {
   "cell_type": "markdown",
   "metadata": {},
   "source": [
    "#### Importar librerias a usar"
   ]
  },
  {
   "cell_type": "code",
   "execution_count": 1,
   "metadata": {},
   "outputs": [],
   "source": [
    "import re\n",
    "import json\n",
    "\n",
    "import numpy as np\n",
    "import pandas as pd\n",
    "\n",
    "import warnings\n",
    "warnings.filterwarnings('ignore')"
   ]
  },
  {
   "cell_type": "markdown",
   "metadata": {},
   "source": [
    "## Carga de Business"
   ]
  },
  {
   "cell_type": "markdown",
   "metadata": {},
   "source": [
    "<p>Cargar los negocios ya preparados previamente para el filtrado de los reviews por negocios</p>"
   ]
  },
  {
   "cell_type": "code",
   "execution_count": 2,
   "metadata": {},
   "outputs": [
    {
     "data": {
      "text/html": [
       "<div>\n",
       "<style scoped>\n",
       "    .dataframe tbody tr th:only-of-type {\n",
       "        vertical-align: middle;\n",
       "    }\n",
       "\n",
       "    .dataframe tbody tr th {\n",
       "        vertical-align: top;\n",
       "    }\n",
       "\n",
       "    .dataframe thead th {\n",
       "        text-align: right;\n",
       "    }\n",
       "</style>\n",
       "<table border=\"1\" class=\"dataframe\">\n",
       "  <thead>\n",
       "    <tr style=\"text-align: right;\">\n",
       "      <th></th>\n",
       "      <th>Unnamed: 0</th>\n",
       "      <th>gmap_id</th>\n",
       "      <th>name</th>\n",
       "      <th>address</th>\n",
       "      <th>latitude</th>\n",
       "      <th>longitude</th>\n",
       "      <th>combined_categories</th>\n",
       "      <th>num_of_reviews</th>\n",
       "      <th>avg_rating</th>\n",
       "      <th>cluster</th>\n",
       "    </tr>\n",
       "  </thead>\n",
       "  <tbody>\n",
       "    <tr>\n",
       "      <th>0</th>\n",
       "      <td>1</td>\n",
       "      <td>0x80c2c778e3b73d33:0xbdc58662a4a97d49</td>\n",
       "      <td>San Soo Dang</td>\n",
       "      <td>San Soo Dang, 761 S Vermont Ave, Los Angeles, ...</td>\n",
       "      <td>34.058092</td>\n",
       "      <td>-118.292130</td>\n",
       "      <td>Korean restaurant</td>\n",
       "      <td>18</td>\n",
       "      <td>4.4</td>\n",
       "      <td>0</td>\n",
       "    </tr>\n",
       "    <tr>\n",
       "      <th>1</th>\n",
       "      <td>5</td>\n",
       "      <td>0x80dd2b4c8555edb7:0xfc33d65c4bdbef42</td>\n",
       "      <td>Vons Chicken</td>\n",
       "      <td>Vons Chicken, 12740 La Mirada Blvd, La Mirada,...</td>\n",
       "      <td>33.916402</td>\n",
       "      <td>-118.010855</td>\n",
       "      <td>Restaurant</td>\n",
       "      <td>18</td>\n",
       "      <td>4.5</td>\n",
       "      <td>0</td>\n",
       "    </tr>\n",
       "    <tr>\n",
       "      <th>2</th>\n",
       "      <td>46</td>\n",
       "      <td>0x808f879f35b5088b:0xe3541cec7a95bd88</td>\n",
       "      <td>TACOS LA CABANA</td>\n",
       "      <td>TACOS LA CABANA, 2015 22nd Ave, Oakland, CA 94606</td>\n",
       "      <td>37.789076</td>\n",
       "      <td>-122.233884</td>\n",
       "      <td>Taco restaurant</td>\n",
       "      <td>2</td>\n",
       "      <td>5.0</td>\n",
       "      <td>0</td>\n",
       "    </tr>\n",
       "    <tr>\n",
       "      <th>3</th>\n",
       "      <td>48</td>\n",
       "      <td>0x808f87f90c1f661f:0xf384e804a61e0c0b</td>\n",
       "      <td>Mariscos el poblano</td>\n",
       "      <td>Mariscos el poblano, 5401-5441 Coliseum Way, O...</td>\n",
       "      <td>37.764203</td>\n",
       "      <td>-122.214647</td>\n",
       "      <td>Restaurant</td>\n",
       "      <td>3</td>\n",
       "      <td>5.0</td>\n",
       "      <td>0</td>\n",
       "    </tr>\n",
       "    <tr>\n",
       "      <th>4</th>\n",
       "      <td>59</td>\n",
       "      <td>0x80dcd95d192d988b:0x68795f58e35bf888</td>\n",
       "      <td>Off The Hoof</td>\n",
       "      <td>Off The Hoof, 201 E 4th St, Santa Ana, CA 92701</td>\n",
       "      <td>33.748329</td>\n",
       "      <td>-117.866045</td>\n",
       "      <td>Restaurant</td>\n",
       "      <td>3</td>\n",
       "      <td>4.0</td>\n",
       "      <td>0</td>\n",
       "    </tr>\n",
       "  </tbody>\n",
       "</table>\n",
       "</div>"
      ],
      "text/plain": [
       "   Unnamed: 0                                gmap_id                 name  \\\n",
       "0           1  0x80c2c778e3b73d33:0xbdc58662a4a97d49         San Soo Dang   \n",
       "1           5  0x80dd2b4c8555edb7:0xfc33d65c4bdbef42         Vons Chicken   \n",
       "2          46  0x808f879f35b5088b:0xe3541cec7a95bd88      TACOS LA CABANA   \n",
       "3          48  0x808f87f90c1f661f:0xf384e804a61e0c0b  Mariscos el poblano   \n",
       "4          59  0x80dcd95d192d988b:0x68795f58e35bf888         Off The Hoof   \n",
       "\n",
       "                                             address   latitude   longitude  \\\n",
       "0  San Soo Dang, 761 S Vermont Ave, Los Angeles, ...  34.058092 -118.292130   \n",
       "1  Vons Chicken, 12740 La Mirada Blvd, La Mirada,...  33.916402 -118.010855   \n",
       "2  TACOS LA CABANA, 2015 22nd Ave, Oakland, CA 94606  37.789076 -122.233884   \n",
       "3  Mariscos el poblano, 5401-5441 Coliseum Way, O...  37.764203 -122.214647   \n",
       "4    Off The Hoof, 201 E 4th St, Santa Ana, CA 92701  33.748329 -117.866045   \n",
       "\n",
       "  combined_categories  num_of_reviews  avg_rating  cluster  \n",
       "0   Korean restaurant              18         4.4        0  \n",
       "1          Restaurant              18         4.5        0  \n",
       "2     Taco restaurant               2         5.0        0  \n",
       "3          Restaurant               3         5.0        0  \n",
       "4          Restaurant               3         4.0        0  "
      ]
     },
     "execution_count": 2,
     "metadata": {},
     "output_type": "execute_result"
    }
   ],
   "source": [
    "# Carga de archivo business\n",
    "business = pd.read_csv('restaurantes_california_con_address.csv')\n",
    "business.head()"
   ]
  },
  {
   "cell_type": "markdown",
   "metadata": {},
   "source": [
    "<p>verificacion del dataframe</p>"
   ]
  },
  {
   "cell_type": "code",
   "execution_count": 3,
   "metadata": {},
   "outputs": [
    {
     "data": {
      "text/plain": [
       "Unnamed: 0             0\n",
       "gmap_id                0\n",
       "name                   0\n",
       "address                0\n",
       "latitude               0\n",
       "longitude              0\n",
       "combined_categories    0\n",
       "num_of_reviews         0\n",
       "avg_rating             0\n",
       "cluster                0\n",
       "dtype: int64"
      ]
     },
     "execution_count": 3,
     "metadata": {},
     "output_type": "execute_result"
    }
   ],
   "source": [
    "# mostrar detalles del dataset\n",
    "business.isnull().sum()"
   ]
  },
  {
   "cell_type": "markdown",
   "metadata": {},
   "source": [
    "---"
   ]
  },
  {
   "cell_type": "markdown",
   "metadata": {},
   "source": [
    "## Cargar Datos de Reviews de google en California"
   ]
  },
  {
   "cell_type": "code",
   "execution_count": 4,
   "metadata": {},
   "outputs": [
    {
     "data": {
      "text/html": [
       "<div>\n",
       "<style scoped>\n",
       "    .dataframe tbody tr th:only-of-type {\n",
       "        vertical-align: middle;\n",
       "    }\n",
       "\n",
       "    .dataframe tbody tr th {\n",
       "        vertical-align: top;\n",
       "    }\n",
       "\n",
       "    .dataframe thead th {\n",
       "        text-align: right;\n",
       "    }\n",
       "</style>\n",
       "<table border=\"1\" class=\"dataframe\">\n",
       "  <thead>\n",
       "    <tr style=\"text-align: right;\">\n",
       "      <th></th>\n",
       "      <th>user_id</th>\n",
       "      <th>name</th>\n",
       "      <th>time</th>\n",
       "      <th>rating</th>\n",
       "      <th>text</th>\n",
       "      <th>pics</th>\n",
       "      <th>resp</th>\n",
       "      <th>gmap_id</th>\n",
       "    </tr>\n",
       "  </thead>\n",
       "  <tbody>\n",
       "    <tr>\n",
       "      <th>0</th>\n",
       "      <td>108991152262655788985</td>\n",
       "      <td>Song Ro</td>\n",
       "      <td>1609909927056</td>\n",
       "      <td>5</td>\n",
       "      <td>Love there korean rice cake.</td>\n",
       "      <td>None</td>\n",
       "      <td>None</td>\n",
       "      <td>0x80c2c778e3b73d33:0xbdc58662a4a97d49</td>\n",
       "    </tr>\n",
       "    <tr>\n",
       "      <th>1</th>\n",
       "      <td>111290322219796215751</td>\n",
       "      <td>Rafa Robles</td>\n",
       "      <td>1612849648663</td>\n",
       "      <td>5</td>\n",
       "      <td>Good very good</td>\n",
       "      <td>None</td>\n",
       "      <td>None</td>\n",
       "      <td>0x80c2c778e3b73d33:0xbdc58662a4a97d49</td>\n",
       "    </tr>\n",
       "    <tr>\n",
       "      <th>2</th>\n",
       "      <td>112640357449611959087</td>\n",
       "      <td>David Han</td>\n",
       "      <td>1583643882296</td>\n",
       "      <td>4</td>\n",
       "      <td>They make Korean traditional food very properly.</td>\n",
       "      <td>None</td>\n",
       "      <td>None</td>\n",
       "      <td>0x80c2c778e3b73d33:0xbdc58662a4a97d49</td>\n",
       "    </tr>\n",
       "    <tr>\n",
       "      <th>3</th>\n",
       "      <td>117440349723823658676</td>\n",
       "      <td>Anthony Kim</td>\n",
       "      <td>1551938216355</td>\n",
       "      <td>5</td>\n",
       "      <td>Short ribs are very delicious.</td>\n",
       "      <td>None</td>\n",
       "      <td>None</td>\n",
       "      <td>0x80c2c778e3b73d33:0xbdc58662a4a97d49</td>\n",
       "    </tr>\n",
       "    <tr>\n",
       "      <th>4</th>\n",
       "      <td>100580770836123539210</td>\n",
       "      <td>Mario Marzouk</td>\n",
       "      <td>1494910901933</td>\n",
       "      <td>5</td>\n",
       "      <td>Great food and prices the portions are large</td>\n",
       "      <td>None</td>\n",
       "      <td>None</td>\n",
       "      <td>0x80c2c778e3b73d33:0xbdc58662a4a97d49</td>\n",
       "    </tr>\n",
       "  </tbody>\n",
       "</table>\n",
       "</div>"
      ],
      "text/plain": [
       "                 user_id           name           time  rating  \\\n",
       "0  108991152262655788985        Song Ro  1609909927056       5   \n",
       "1  111290322219796215751    Rafa Robles  1612849648663       5   \n",
       "2  112640357449611959087      David Han  1583643882296       4   \n",
       "3  117440349723823658676    Anthony Kim  1551938216355       5   \n",
       "4  100580770836123539210  Mario Marzouk  1494910901933       5   \n",
       "\n",
       "                                               text  pics  resp  \\\n",
       "0                      Love there korean rice cake.  None  None   \n",
       "1                                    Good very good  None  None   \n",
       "2  They make Korean traditional food very properly.  None  None   \n",
       "3                    Short ribs are very delicious.  None  None   \n",
       "4      Great food and prices the portions are large  None  None   \n",
       "\n",
       "                                 gmap_id  \n",
       "0  0x80c2c778e3b73d33:0xbdc58662a4a97d49  \n",
       "1  0x80c2c778e3b73d33:0xbdc58662a4a97d49  \n",
       "2  0x80c2c778e3b73d33:0xbdc58662a4a97d49  \n",
       "3  0x80c2c778e3b73d33:0xbdc58662a4a97d49  \n",
       "4  0x80c2c778e3b73d33:0xbdc58662a4a97d49  "
      ]
     },
     "execution_count": 4,
     "metadata": {},
     "output_type": "execute_result"
    }
   ],
   "source": [
    "# Cargar Datos de reviews de google en en california.\n",
    "review_google = pd.read_parquet('reviews_California.parquet')\n",
    "review_google.head()"
   ]
  },
  {
   "cell_type": "markdown",
   "metadata": {},
   "source": [
    "<p>visualizar las propiedades del dataframe de reviews google.</p>"
   ]
  },
  {
   "cell_type": "code",
   "execution_count": 5,
   "metadata": {},
   "outputs": [
    {
     "name": "stdout",
     "output_type": "stream",
     "text": [
      "<class 'pandas.core.frame.DataFrame'>\n",
      "RangeIndex: 2550000 entries, 0 to 2549999\n",
      "Data columns (total 8 columns):\n",
      " #   Column   Dtype \n",
      "---  ------   ----- \n",
      " 0   user_id  object\n",
      " 1   name     object\n",
      " 2   time     int64 \n",
      " 3   rating   int64 \n",
      " 4   text     object\n",
      " 5   pics     object\n",
      " 6   resp     object\n",
      " 7   gmap_id  object\n",
      "dtypes: int64(2), object(6)\n",
      "memory usage: 155.6+ MB\n"
     ]
    }
   ],
   "source": [
    "# Visualizar las propiedades del dataframe de reviews de google en california.\n",
    "review_google.info()"
   ]
  },
  {
   "cell_type": "markdown",
   "metadata": {},
   "source": [
    "## Filtrar Reviews de google en California"
   ]
  },
  {
   "cell_type": "markdown",
   "metadata": {},
   "source": [
    "<p>Se filtran los reviews que se tienen por negocio usando el id unico de los negocios</p>"
   ]
  },
  {
   "cell_type": "code",
   "execution_count": 6,
   "metadata": {},
   "outputs": [
    {
     "data": {
      "text/html": [
       "<div>\n",
       "<style scoped>\n",
       "    .dataframe tbody tr th:only-of-type {\n",
       "        vertical-align: middle;\n",
       "    }\n",
       "\n",
       "    .dataframe tbody tr th {\n",
       "        vertical-align: top;\n",
       "    }\n",
       "\n",
       "    .dataframe thead th {\n",
       "        text-align: right;\n",
       "    }\n",
       "</style>\n",
       "<table border=\"1\" class=\"dataframe\">\n",
       "  <thead>\n",
       "    <tr style=\"text-align: right;\">\n",
       "      <th></th>\n",
       "      <th>user_id</th>\n",
       "      <th>name</th>\n",
       "      <th>time</th>\n",
       "      <th>rating</th>\n",
       "      <th>text</th>\n",
       "      <th>pics</th>\n",
       "      <th>resp</th>\n",
       "      <th>gmap_id</th>\n",
       "    </tr>\n",
       "  </thead>\n",
       "  <tbody>\n",
       "    <tr>\n",
       "      <th>0</th>\n",
       "      <td>108991152262655788985</td>\n",
       "      <td>Song Ro</td>\n",
       "      <td>1609909927056</td>\n",
       "      <td>5</td>\n",
       "      <td>Love there korean rice cake.</td>\n",
       "      <td>None</td>\n",
       "      <td>None</td>\n",
       "      <td>0x80c2c778e3b73d33:0xbdc58662a4a97d49</td>\n",
       "    </tr>\n",
       "    <tr>\n",
       "      <th>1</th>\n",
       "      <td>111290322219796215751</td>\n",
       "      <td>Rafa Robles</td>\n",
       "      <td>1612849648663</td>\n",
       "      <td>5</td>\n",
       "      <td>Good very good</td>\n",
       "      <td>None</td>\n",
       "      <td>None</td>\n",
       "      <td>0x80c2c778e3b73d33:0xbdc58662a4a97d49</td>\n",
       "    </tr>\n",
       "    <tr>\n",
       "      <th>2</th>\n",
       "      <td>112640357449611959087</td>\n",
       "      <td>David Han</td>\n",
       "      <td>1583643882296</td>\n",
       "      <td>4</td>\n",
       "      <td>They make Korean traditional food very properly.</td>\n",
       "      <td>None</td>\n",
       "      <td>None</td>\n",
       "      <td>0x80c2c778e3b73d33:0xbdc58662a4a97d49</td>\n",
       "    </tr>\n",
       "    <tr>\n",
       "      <th>3</th>\n",
       "      <td>117440349723823658676</td>\n",
       "      <td>Anthony Kim</td>\n",
       "      <td>1551938216355</td>\n",
       "      <td>5</td>\n",
       "      <td>Short ribs are very delicious.</td>\n",
       "      <td>None</td>\n",
       "      <td>None</td>\n",
       "      <td>0x80c2c778e3b73d33:0xbdc58662a4a97d49</td>\n",
       "    </tr>\n",
       "    <tr>\n",
       "      <th>4</th>\n",
       "      <td>100580770836123539210</td>\n",
       "      <td>Mario Marzouk</td>\n",
       "      <td>1494910901933</td>\n",
       "      <td>5</td>\n",
       "      <td>Great food and prices the portions are large</td>\n",
       "      <td>None</td>\n",
       "      <td>None</td>\n",
       "      <td>0x80c2c778e3b73d33:0xbdc58662a4a97d49</td>\n",
       "    </tr>\n",
       "    <tr>\n",
       "      <th>...</th>\n",
       "      <td>...</td>\n",
       "      <td>...</td>\n",
       "      <td>...</td>\n",
       "      <td>...</td>\n",
       "      <td>...</td>\n",
       "      <td>...</td>\n",
       "      <td>...</td>\n",
       "      <td>...</td>\n",
       "    </tr>\n",
       "    <tr>\n",
       "      <th>2549961</th>\n",
       "      <td>101170602149653702787</td>\n",
       "      <td>Tin Haw</td>\n",
       "      <td>1581128009383</td>\n",
       "      <td>3</td>\n",
       "      <td>Nothing extraordinary</td>\n",
       "      <td>None</td>\n",
       "      <td>None</td>\n",
       "      <td>0x808fe955b0beae57:0xb3159fe6572670c3</td>\n",
       "    </tr>\n",
       "    <tr>\n",
       "      <th>2549962</th>\n",
       "      <td>113579981425015089004</td>\n",
       "      <td>Louie A</td>\n",
       "      <td>1608722066281</td>\n",
       "      <td>5</td>\n",
       "      <td>None</td>\n",
       "      <td>None</td>\n",
       "      <td>None</td>\n",
       "      <td>0x808fe955b0beae57:0xb3159fe6572670c3</td>\n",
       "    </tr>\n",
       "    <tr>\n",
       "      <th>2549963</th>\n",
       "      <td>108015942855613468860</td>\n",
       "      <td>Jack Wong</td>\n",
       "      <td>1623729595285</td>\n",
       "      <td>4</td>\n",
       "      <td>None</td>\n",
       "      <td>None</td>\n",
       "      <td>None</td>\n",
       "      <td>0x808fe955b0beae57:0xb3159fe6572670c3</td>\n",
       "    </tr>\n",
       "    <tr>\n",
       "      <th>2549964</th>\n",
       "      <td>104156768280476200241</td>\n",
       "      <td>Andrew Lyzlov</td>\n",
       "      <td>1622153800252</td>\n",
       "      <td>4</td>\n",
       "      <td>None</td>\n",
       "      <td>[{'url': ['https://lh5.googleusercontent.com/p...</td>\n",
       "      <td>None</td>\n",
       "      <td>0x808fe955b0beae57:0xb3159fe6572670c3</td>\n",
       "    </tr>\n",
       "    <tr>\n",
       "      <th>2549965</th>\n",
       "      <td>111929846399805880876</td>\n",
       "      <td>Hugo Dozois-Caouette</td>\n",
       "      <td>1571609435709</td>\n",
       "      <td>5</td>\n",
       "      <td>None</td>\n",
       "      <td>None</td>\n",
       "      <td>None</td>\n",
       "      <td>0x808fe955b0beae57:0xb3159fe6572670c3</td>\n",
       "    </tr>\n",
       "  </tbody>\n",
       "</table>\n",
       "<p>618036 rows × 8 columns</p>\n",
       "</div>"
      ],
      "text/plain": [
       "                       user_id                  name           time  rating  \\\n",
       "0        108991152262655788985               Song Ro  1609909927056       5   \n",
       "1        111290322219796215751           Rafa Robles  1612849648663       5   \n",
       "2        112640357449611959087             David Han  1583643882296       4   \n",
       "3        117440349723823658676           Anthony Kim  1551938216355       5   \n",
       "4        100580770836123539210         Mario Marzouk  1494910901933       5   \n",
       "...                        ...                   ...            ...     ...   \n",
       "2549961  101170602149653702787               Tin Haw  1581128009383       3   \n",
       "2549962  113579981425015089004               Louie A  1608722066281       5   \n",
       "2549963  108015942855613468860             Jack Wong  1623729595285       4   \n",
       "2549964  104156768280476200241         Andrew Lyzlov  1622153800252       4   \n",
       "2549965  111929846399805880876  Hugo Dozois-Caouette  1571609435709       5   \n",
       "\n",
       "                                                     text  \\\n",
       "0                            Love there korean rice cake.   \n",
       "1                                          Good very good   \n",
       "2        They make Korean traditional food very properly.   \n",
       "3                          Short ribs are very delicious.   \n",
       "4            Great food and prices the portions are large   \n",
       "...                                                   ...   \n",
       "2549961                             Nothing extraordinary   \n",
       "2549962                                              None   \n",
       "2549963                                              None   \n",
       "2549964                                              None   \n",
       "2549965                                              None   \n",
       "\n",
       "                                                      pics  resp  \\\n",
       "0                                                     None  None   \n",
       "1                                                     None  None   \n",
       "2                                                     None  None   \n",
       "3                                                     None  None   \n",
       "4                                                     None  None   \n",
       "...                                                    ...   ...   \n",
       "2549961                                               None  None   \n",
       "2549962                                               None  None   \n",
       "2549963                                               None  None   \n",
       "2549964  [{'url': ['https://lh5.googleusercontent.com/p...  None   \n",
       "2549965                                               None  None   \n",
       "\n",
       "                                       gmap_id  \n",
       "0        0x80c2c778e3b73d33:0xbdc58662a4a97d49  \n",
       "1        0x80c2c778e3b73d33:0xbdc58662a4a97d49  \n",
       "2        0x80c2c778e3b73d33:0xbdc58662a4a97d49  \n",
       "3        0x80c2c778e3b73d33:0xbdc58662a4a97d49  \n",
       "4        0x80c2c778e3b73d33:0xbdc58662a4a97d49  \n",
       "...                                        ...  \n",
       "2549961  0x808fe955b0beae57:0xb3159fe6572670c3  \n",
       "2549962  0x808fe955b0beae57:0xb3159fe6572670c3  \n",
       "2549963  0x808fe955b0beae57:0xb3159fe6572670c3  \n",
       "2549964  0x808fe955b0beae57:0xb3159fe6572670c3  \n",
       "2549965  0x808fe955b0beae57:0xb3159fe6572670c3  \n",
       "\n",
       "[618036 rows x 8 columns]"
      ]
     },
     "execution_count": 6,
     "metadata": {},
     "output_type": "execute_result"
    }
   ],
   "source": [
    "# filtrar reviews de google en california por business.\n",
    "review_google_filtered = review_google[review_google['gmap_id'].isin(business['gmap_id'])]\n",
    "review_google_filtered"
   ]
  },
  {
   "cell_type": "markdown",
   "metadata": {},
   "source": [
    "> Se obtiene como resultados 618036 filas filtradas."
   ]
  },
  {
   "cell_type": "markdown",
   "metadata": {},
   "source": [
    "#### Eliminar columnas"
   ]
  },
  {
   "cell_type": "code",
   "execution_count": 7,
   "metadata": {},
   "outputs": [],
   "source": [
    "# lista de columnas a eliminar.\n",
    "drop_colums = ['user_id', 'name', 'rating', 'time', 'pics', 'resp']\n",
    "# drop de columnas en el dataframe reviews.\n",
    "review_google_filtered = review_google_filtered.drop(columns=drop_colums)"
   ]
  },
  {
   "cell_type": "markdown",
   "metadata": {},
   "source": [
    "#### Verificar resultados"
   ]
  },
  {
   "cell_type": "code",
   "execution_count": 8,
   "metadata": {},
   "outputs": [
    {
     "name": "stdout",
     "output_type": "stream",
     "text": [
      "<class 'pandas.core.frame.DataFrame'>\n",
      "Index: 618036 entries, 0 to 2549965\n",
      "Data columns (total 2 columns):\n",
      " #   Column   Non-Null Count   Dtype \n",
      "---  ------   --------------   ----- \n",
      " 0   text     357440 non-null  object\n",
      " 1   gmap_id  618036 non-null  object\n",
      "dtypes: object(2)\n",
      "memory usage: 14.1+ MB\n"
     ]
    }
   ],
   "source": [
    "# verificar las caracteristicas del dataframe.\n",
    "review_google_filtered.info()"
   ]
  },
  {
   "cell_type": "markdown",
   "metadata": {},
   "source": [
    "> Se pudo observar que se presntan varios datos nulos en la columna de reviews"
   ]
  },
  {
   "cell_type": "markdown",
   "metadata": {},
   "source": [
    "#### Verificar Valores nulos"
   ]
  },
  {
   "cell_type": "code",
   "execution_count": 9,
   "metadata": {},
   "outputs": [
    {
     "data": {
      "text/plain": [
       "text       260596\n",
       "gmap_id         0\n",
       "dtype: int64"
      ]
     },
     "execution_count": 9,
     "metadata": {},
     "output_type": "execute_result"
    }
   ],
   "source": [
    "# sumar nulos por columna.\n",
    "review_google_filtered.isnull().sum()"
   ]
  },
  {
   "cell_type": "markdown",
   "metadata": {},
   "source": [
    "#### Eliminar filas con valores nulos"
   ]
  },
  {
   "cell_type": "code",
   "execution_count": 10,
   "metadata": {},
   "outputs": [],
   "source": [
    "# Eliminar datos nulos.\n",
    "review_google_clean = review_google_filtered.dropna()"
   ]
  },
  {
   "cell_type": "markdown",
   "metadata": {},
   "source": [
    "#### Verificar valores nulos"
   ]
  },
  {
   "cell_type": "code",
   "execution_count": 11,
   "metadata": {},
   "outputs": [
    {
     "data": {
      "text/plain": [
       "text       0\n",
       "gmap_id    0\n",
       "dtype: int64"
      ]
     },
     "execution_count": 11,
     "metadata": {},
     "output_type": "execute_result"
    }
   ],
   "source": [
    "# Verificacion de datos nulos por columna.\n",
    "review_google_clean.isnull().sum()"
   ]
  },
  {
   "cell_type": "markdown",
   "metadata": {},
   "source": [
    "> No quedan datos nulos en el dataframe."
   ]
  },
  {
   "cell_type": "markdown",
   "metadata": {},
   "source": [
    "#### Verificar estructura de la tabla"
   ]
  },
  {
   "cell_type": "code",
   "execution_count": 12,
   "metadata": {},
   "outputs": [
    {
     "name": "stdout",
     "output_type": "stream",
     "text": [
      "<class 'pandas.core.frame.DataFrame'>\n",
      "Index: 357440 entries, 0 to 2549961\n",
      "Data columns (total 2 columns):\n",
      " #   Column   Non-Null Count   Dtype \n",
      "---  ------   --------------   ----- \n",
      " 0   text     357440 non-null  object\n",
      " 1   gmap_id  357440 non-null  object\n",
      "dtypes: object(2)\n",
      "memory usage: 8.2+ MB\n"
     ]
    }
   ],
   "source": [
    "# verificacion de la estructura del dataframe.\n",
    "review_google_clean.info()"
   ]
  },
  {
   "cell_type": "markdown",
   "metadata": {},
   "source": [
    "#### Agregar columna date"
   ]
  },
  {
   "cell_type": "code",
   "execution_count": 13,
   "metadata": {},
   "outputs": [],
   "source": [
    "start_date = pd.Timestamp('2013-01-01')\n",
    "end_date = pd.Timestamp('2022-12-31')\n",
    "\n",
    "num_rows = 357440\n",
    "random_dates = start_date + (end_date - start_date) * np.random.uniform(0, 1, num_rows)\n",
    "review_google_clean['fecha'] = pd.to_datetime(random_dates)"
   ]
  },
  {
   "cell_type": "code",
   "execution_count": 14,
   "metadata": {},
   "outputs": [
    {
     "data": {
      "text/html": [
       "<div>\n",
       "<style scoped>\n",
       "    .dataframe tbody tr th:only-of-type {\n",
       "        vertical-align: middle;\n",
       "    }\n",
       "\n",
       "    .dataframe tbody tr th {\n",
       "        vertical-align: top;\n",
       "    }\n",
       "\n",
       "    .dataframe thead th {\n",
       "        text-align: right;\n",
       "    }\n",
       "</style>\n",
       "<table border=\"1\" class=\"dataframe\">\n",
       "  <thead>\n",
       "    <tr style=\"text-align: right;\">\n",
       "      <th></th>\n",
       "      <th>text</th>\n",
       "      <th>gmap_id</th>\n",
       "      <th>fecha</th>\n",
       "    </tr>\n",
       "  </thead>\n",
       "  <tbody>\n",
       "    <tr>\n",
       "      <th>0</th>\n",
       "      <td>Love there korean rice cake.</td>\n",
       "      <td>0x80c2c778e3b73d33:0xbdc58662a4a97d49</td>\n",
       "      <td>2014-03-16 05:10:15</td>\n",
       "    </tr>\n",
       "    <tr>\n",
       "      <th>1</th>\n",
       "      <td>Good very good</td>\n",
       "      <td>0x80c2c778e3b73d33:0xbdc58662a4a97d49</td>\n",
       "      <td>2014-02-21 00:29:23</td>\n",
       "    </tr>\n",
       "    <tr>\n",
       "      <th>2</th>\n",
       "      <td>They make Korean traditional food very properly.</td>\n",
       "      <td>0x80c2c778e3b73d33:0xbdc58662a4a97d49</td>\n",
       "      <td>2016-01-30 19:38:55</td>\n",
       "    </tr>\n",
       "    <tr>\n",
       "      <th>3</th>\n",
       "      <td>Short ribs are very delicious.</td>\n",
       "      <td>0x80c2c778e3b73d33:0xbdc58662a4a97d49</td>\n",
       "      <td>2019-11-30 22:23:42</td>\n",
       "    </tr>\n",
       "    <tr>\n",
       "      <th>4</th>\n",
       "      <td>Great food and prices the portions are large</td>\n",
       "      <td>0x80c2c778e3b73d33:0xbdc58662a4a97d49</td>\n",
       "      <td>2016-07-15 13:11:12</td>\n",
       "    </tr>\n",
       "    <tr>\n",
       "      <th>...</th>\n",
       "      <td>...</td>\n",
       "      <td>...</td>\n",
       "      <td>...</td>\n",
       "    </tr>\n",
       "    <tr>\n",
       "      <th>2549957</th>\n",
       "      <td>Delicious ramen, clean dinning room and good s...</td>\n",
       "      <td>0x808fe955b0beae57:0xb3159fe6572670c3</td>\n",
       "      <td>2020-11-05 01:30:44</td>\n",
       "    </tr>\n",
       "    <tr>\n",
       "      <th>2549958</th>\n",
       "      <td>Rich broth, soft meat, and fresh noodles.</td>\n",
       "      <td>0x808fe955b0beae57:0xb3159fe6572670c3</td>\n",
       "      <td>2021-09-12 06:52:46</td>\n",
       "    </tr>\n",
       "    <tr>\n",
       "      <th>2549959</th>\n",
       "      <td>Best services, best ramen😋😋😋😋</td>\n",
       "      <td>0x808fe955b0beae57:0xb3159fe6572670c3</td>\n",
       "      <td>2021-07-16 14:55:27</td>\n",
       "    </tr>\n",
       "    <tr>\n",
       "      <th>2549960</th>\n",
       "      <td>Best food ever</td>\n",
       "      <td>0x808fe955b0beae57:0xb3159fe6572670c3</td>\n",
       "      <td>2021-11-17 01:27:55</td>\n",
       "    </tr>\n",
       "    <tr>\n",
       "      <th>2549961</th>\n",
       "      <td>Nothing extraordinary</td>\n",
       "      <td>0x808fe955b0beae57:0xb3159fe6572670c3</td>\n",
       "      <td>2017-07-02 14:15:15</td>\n",
       "    </tr>\n",
       "  </tbody>\n",
       "</table>\n",
       "<p>357440 rows × 3 columns</p>\n",
       "</div>"
      ],
      "text/plain": [
       "                                                      text  \\\n",
       "0                             Love there korean rice cake.   \n",
       "1                                           Good very good   \n",
       "2         They make Korean traditional food very properly.   \n",
       "3                           Short ribs are very delicious.   \n",
       "4             Great food and prices the portions are large   \n",
       "...                                                    ...   \n",
       "2549957  Delicious ramen, clean dinning room and good s...   \n",
       "2549958          Rich broth, soft meat, and fresh noodles.   \n",
       "2549959                      Best services, best ramen😋😋😋😋   \n",
       "2549960                                     Best food ever   \n",
       "2549961                              Nothing extraordinary   \n",
       "\n",
       "                                       gmap_id               fecha  \n",
       "0        0x80c2c778e3b73d33:0xbdc58662a4a97d49 2014-03-16 05:10:15  \n",
       "1        0x80c2c778e3b73d33:0xbdc58662a4a97d49 2014-02-21 00:29:23  \n",
       "2        0x80c2c778e3b73d33:0xbdc58662a4a97d49 2016-01-30 19:38:55  \n",
       "3        0x80c2c778e3b73d33:0xbdc58662a4a97d49 2019-11-30 22:23:42  \n",
       "4        0x80c2c778e3b73d33:0xbdc58662a4a97d49 2016-07-15 13:11:12  \n",
       "...                                        ...                 ...  \n",
       "2549957  0x808fe955b0beae57:0xb3159fe6572670c3 2020-11-05 01:30:44  \n",
       "2549958  0x808fe955b0beae57:0xb3159fe6572670c3 2021-09-12 06:52:46  \n",
       "2549959  0x808fe955b0beae57:0xb3159fe6572670c3 2021-07-16 14:55:27  \n",
       "2549960  0x808fe955b0beae57:0xb3159fe6572670c3 2021-11-17 01:27:55  \n",
       "2549961  0x808fe955b0beae57:0xb3159fe6572670c3 2017-07-02 14:15:15  \n",
       "\n",
       "[357440 rows x 3 columns]"
      ]
     },
     "execution_count": 14,
     "metadata": {},
     "output_type": "execute_result"
    }
   ],
   "source": [
    "review_google_clean"
   ]
  },
  {
   "cell_type": "markdown",
   "metadata": {},
   "source": [
    "#### Cargar datos de yelp"
   ]
  },
  {
   "cell_type": "markdown",
   "metadata": {},
   "source": [
    "<p>se decidio comentar esta parte del codigo debido a que no se contaban con datos suficientes en yelp para evaluar los negocios</p>"
   ]
  },
  {
   "cell_type": "markdown",
   "metadata": {},
   "source": [
    "---------------------------------------------------------------------------------------------------------------------------------------------"
   ]
  },
  {
   "cell_type": "code",
   "execution_count": 15,
   "metadata": {},
   "outputs": [],
   "source": [
    "# # Inicializar una lista para almacenar los datos\n",
    "# data = []\n",
    "\n",
    "# # Leer el archivo línea por línea y cargar cada línea como JSON, especificando la codificación UTF-8\n",
    "# with open('review.json', 'r', encoding='utf-8') as file:\n",
    "#     for line in file:\n",
    "#         data.append(json.loads(line))\n",
    "\n",
    "# # Convertir la lista a un DataFrame de pandas\n",
    "# review_yelp = pd.DataFrame(data)\n"
   ]
  },
  {
   "cell_type": "code",
   "execution_count": 16,
   "metadata": {},
   "outputs": [],
   "source": [
    "# review_yelp.head()"
   ]
  },
  {
   "cell_type": "markdown",
   "metadata": {},
   "source": [
    "#### Filtrar reviews de Yelp"
   ]
  },
  {
   "cell_type": "code",
   "execution_count": 17,
   "metadata": {},
   "outputs": [],
   "source": [
    "# review_yelp_filtered = review_yelp[review_yelp['business_id'].isin(business['gmap_id'])]\n",
    "# review_yelp_filtered"
   ]
  },
  {
   "cell_type": "code",
   "execution_count": 18,
   "metadata": {},
   "outputs": [],
   "source": [
    "# drop_colums = ['review_id', 'user_id', 'stars', 'useful', 'funny', 'cool']\n",
    "# review_yelp_filtered = review_yelp_filtered.drop(columns=drop_colums)"
   ]
  },
  {
   "cell_type": "code",
   "execution_count": 19,
   "metadata": {},
   "outputs": [],
   "source": [
    "# review_yelp_filtered.info()"
   ]
  },
  {
   "cell_type": "code",
   "execution_count": 20,
   "metadata": {},
   "outputs": [],
   "source": [
    "# review_yelp_filtered = review_yelp_filtered.rename(columns={'business_id': 'gmap_id'})"
   ]
  },
  {
   "cell_type": "code",
   "execution_count": 21,
   "metadata": {},
   "outputs": [],
   "source": [
    "# review_yelp_filtered.head()"
   ]
  },
  {
   "cell_type": "code",
   "execution_count": 22,
   "metadata": {},
   "outputs": [],
   "source": [
    "# review_google_clean.head()"
   ]
  },
  {
   "cell_type": "code",
   "execution_count": 23,
   "metadata": {},
   "outputs": [],
   "source": [
    "# reviews = pd.merge(review_google_clean, review_yelp_filtered, how='outer')\n"
   ]
  },
  {
   "cell_type": "code",
   "execution_count": 24,
   "metadata": {},
   "outputs": [],
   "source": [
    "# reviews.info()"
   ]
  },
  {
   "cell_type": "code",
   "execution_count": 25,
   "metadata": {},
   "outputs": [],
   "source": [
    "# reviews.fillna('0000-00-00 00:00:00')"
   ]
  },
  {
   "cell_type": "code",
   "execution_count": 26,
   "metadata": {},
   "outputs": [],
   "source": [
    "# reviews"
   ]
  },
  {
   "cell_type": "markdown",
   "metadata": {},
   "source": [
    "## Limpieza de los reviews"
   ]
  },
  {
   "cell_type": "code",
   "execution_count": 27,
   "metadata": {},
   "outputs": [
    {
     "data": {
      "text/html": [
       "<div>\n",
       "<style scoped>\n",
       "    .dataframe tbody tr th:only-of-type {\n",
       "        vertical-align: middle;\n",
       "    }\n",
       "\n",
       "    .dataframe tbody tr th {\n",
       "        vertical-align: top;\n",
       "    }\n",
       "\n",
       "    .dataframe thead th {\n",
       "        text-align: right;\n",
       "    }\n",
       "</style>\n",
       "<table border=\"1\" class=\"dataframe\">\n",
       "  <thead>\n",
       "    <tr style=\"text-align: right;\">\n",
       "      <th></th>\n",
       "      <th>text</th>\n",
       "      <th>gmap_id</th>\n",
       "      <th>fecha</th>\n",
       "    </tr>\n",
       "  </thead>\n",
       "  <tbody>\n",
       "    <tr>\n",
       "      <th>0</th>\n",
       "      <td>love there korean rice cake</td>\n",
       "      <td>0x80c2c778e3b73d33:0xbdc58662a4a97d49</td>\n",
       "      <td>2014-03-16 05:10:15</td>\n",
       "    </tr>\n",
       "    <tr>\n",
       "      <th>1</th>\n",
       "      <td>good very good</td>\n",
       "      <td>0x80c2c778e3b73d33:0xbdc58662a4a97d49</td>\n",
       "      <td>2014-02-21 00:29:23</td>\n",
       "    </tr>\n",
       "    <tr>\n",
       "      <th>2</th>\n",
       "      <td>they make korean traditional food very properly</td>\n",
       "      <td>0x80c2c778e3b73d33:0xbdc58662a4a97d49</td>\n",
       "      <td>2016-01-30 19:38:55</td>\n",
       "    </tr>\n",
       "    <tr>\n",
       "      <th>3</th>\n",
       "      <td>short ribs are very delicious</td>\n",
       "      <td>0x80c2c778e3b73d33:0xbdc58662a4a97d49</td>\n",
       "      <td>2019-11-30 22:23:42</td>\n",
       "    </tr>\n",
       "    <tr>\n",
       "      <th>4</th>\n",
       "      <td>great food and prices the portions are large</td>\n",
       "      <td>0x80c2c778e3b73d33:0xbdc58662a4a97d49</td>\n",
       "      <td>2016-07-15 13:11:12</td>\n",
       "    </tr>\n",
       "  </tbody>\n",
       "</table>\n",
       "</div>"
      ],
      "text/plain": [
       "                                              text  \\\n",
       "0                      love there korean rice cake   \n",
       "1                                   good very good   \n",
       "2  they make korean traditional food very properly   \n",
       "3                    short ribs are very delicious   \n",
       "4     great food and prices the portions are large   \n",
       "\n",
       "                                 gmap_id               fecha  \n",
       "0  0x80c2c778e3b73d33:0xbdc58662a4a97d49 2014-03-16 05:10:15  \n",
       "1  0x80c2c778e3b73d33:0xbdc58662a4a97d49 2014-02-21 00:29:23  \n",
       "2  0x80c2c778e3b73d33:0xbdc58662a4a97d49 2016-01-30 19:38:55  \n",
       "3  0x80c2c778e3b73d33:0xbdc58662a4a97d49 2019-11-30 22:23:42  \n",
       "4  0x80c2c778e3b73d33:0xbdc58662a4a97d49 2016-07-15 13:11:12  "
      ]
     },
     "execution_count": 27,
     "metadata": {},
     "output_type": "execute_result"
    }
   ],
   "source": [
    "# Funcion para normalizar los reviews.\n",
    "def clean_text(text):\n",
    "     text = text.lower()  # Convertir a minúsculas.\n",
    "     text = re.sub(r'\\d+', '', text)  # Remover dígitos.\n",
    "     text = re.sub(r'[^\\w\\s]', '', text)  # Remover caracteres especiales.\n",
    "     text = re.sub(r'\\s+', ' ', text).strip()  # Remover espacios extra.\n",
    "     return text\n",
    "\n",
    "# Eliminar los alfabetos no romanos del dataframe.\n",
    "regex = r'^[a-zA-Z0-9\\s.,!?\\'\"-]*$'\n",
    "review_google_clean = review_google_clean[review_google_clean['text'].str.match(regex)]\n",
    "\n",
    "# Aplicar la normalizacion a los reviews.\n",
    "review_google_clean['text'] = review_google_clean['text'].apply(clean_text)\n",
    "\n",
    "review_google_clean.head()\n"
   ]
  },
  {
   "cell_type": "markdown",
   "metadata": {},
   "source": [
    "---"
   ]
  },
  {
   "cell_type": "code",
   "execution_count": 28,
   "metadata": {},
   "outputs": [
    {
     "data": {
      "text/html": [
       "<div>\n",
       "<style scoped>\n",
       "    .dataframe tbody tr th:only-of-type {\n",
       "        vertical-align: middle;\n",
       "    }\n",
       "\n",
       "    .dataframe tbody tr th {\n",
       "        vertical-align: top;\n",
       "    }\n",
       "\n",
       "    .dataframe thead th {\n",
       "        text-align: right;\n",
       "    }\n",
       "</style>\n",
       "<table border=\"1\" class=\"dataframe\">\n",
       "  <thead>\n",
       "    <tr style=\"text-align: right;\">\n",
       "      <th></th>\n",
       "      <th>text</th>\n",
       "      <th>gmap_id</th>\n",
       "      <th>fecha</th>\n",
       "    </tr>\n",
       "  </thead>\n",
       "  <tbody>\n",
       "    <tr>\n",
       "      <th>0</th>\n",
       "      <td>love there korean rice cake</td>\n",
       "      <td>0x80c2c778e3b73d33:0xbdc58662a4a97d49</td>\n",
       "      <td>2014-03-16 05:10:15</td>\n",
       "    </tr>\n",
       "    <tr>\n",
       "      <th>1</th>\n",
       "      <td>good very good</td>\n",
       "      <td>0x80c2c778e3b73d33:0xbdc58662a4a97d49</td>\n",
       "      <td>2014-02-21 00:29:23</td>\n",
       "    </tr>\n",
       "    <tr>\n",
       "      <th>2</th>\n",
       "      <td>they make korean traditional food very properly</td>\n",
       "      <td>0x80c2c778e3b73d33:0xbdc58662a4a97d49</td>\n",
       "      <td>2016-01-30 19:38:55</td>\n",
       "    </tr>\n",
       "    <tr>\n",
       "      <th>3</th>\n",
       "      <td>short ribs are very delicious</td>\n",
       "      <td>0x80c2c778e3b73d33:0xbdc58662a4a97d49</td>\n",
       "      <td>2019-11-30 22:23:42</td>\n",
       "    </tr>\n",
       "    <tr>\n",
       "      <th>4</th>\n",
       "      <td>great food and prices the portions are large</td>\n",
       "      <td>0x80c2c778e3b73d33:0xbdc58662a4a97d49</td>\n",
       "      <td>2016-07-15 13:11:12</td>\n",
       "    </tr>\n",
       "    <tr>\n",
       "      <th>...</th>\n",
       "      <td>...</td>\n",
       "      <td>...</td>\n",
       "      <td>...</td>\n",
       "    </tr>\n",
       "    <tr>\n",
       "      <th>2549955</th>\n",
       "      <td>this place took over osaka ramen we tried the ...</td>\n",
       "      <td>0x808fe955b0beae57:0xb3159fe6572670c3</td>\n",
       "      <td>2017-07-02 19:41:03</td>\n",
       "    </tr>\n",
       "    <tr>\n",
       "      <th>2549957</th>\n",
       "      <td>delicious ramen clean dinning room and good se...</td>\n",
       "      <td>0x808fe955b0beae57:0xb3159fe6572670c3</td>\n",
       "      <td>2020-11-05 01:30:44</td>\n",
       "    </tr>\n",
       "    <tr>\n",
       "      <th>2549958</th>\n",
       "      <td>rich broth soft meat and fresh noodles</td>\n",
       "      <td>0x808fe955b0beae57:0xb3159fe6572670c3</td>\n",
       "      <td>2021-09-12 06:52:46</td>\n",
       "    </tr>\n",
       "    <tr>\n",
       "      <th>2549960</th>\n",
       "      <td>best food ever</td>\n",
       "      <td>0x808fe955b0beae57:0xb3159fe6572670c3</td>\n",
       "      <td>2021-11-17 01:27:55</td>\n",
       "    </tr>\n",
       "    <tr>\n",
       "      <th>2549961</th>\n",
       "      <td>nothing extraordinary</td>\n",
       "      <td>0x808fe955b0beae57:0xb3159fe6572670c3</td>\n",
       "      <td>2017-07-02 14:15:15</td>\n",
       "    </tr>\n",
       "  </tbody>\n",
       "</table>\n",
       "<p>281042 rows × 3 columns</p>\n",
       "</div>"
      ],
      "text/plain": [
       "                                                      text  \\\n",
       "0                              love there korean rice cake   \n",
       "1                                           good very good   \n",
       "2          they make korean traditional food very properly   \n",
       "3                            short ribs are very delicious   \n",
       "4             great food and prices the portions are large   \n",
       "...                                                    ...   \n",
       "2549955  this place took over osaka ramen we tried the ...   \n",
       "2549957  delicious ramen clean dinning room and good se...   \n",
       "2549958             rich broth soft meat and fresh noodles   \n",
       "2549960                                     best food ever   \n",
       "2549961                              nothing extraordinary   \n",
       "\n",
       "                                       gmap_id               fecha  \n",
       "0        0x80c2c778e3b73d33:0xbdc58662a4a97d49 2014-03-16 05:10:15  \n",
       "1        0x80c2c778e3b73d33:0xbdc58662a4a97d49 2014-02-21 00:29:23  \n",
       "2        0x80c2c778e3b73d33:0xbdc58662a4a97d49 2016-01-30 19:38:55  \n",
       "3        0x80c2c778e3b73d33:0xbdc58662a4a97d49 2019-11-30 22:23:42  \n",
       "4        0x80c2c778e3b73d33:0xbdc58662a4a97d49 2016-07-15 13:11:12  \n",
       "...                                        ...                 ...  \n",
       "2549955  0x808fe955b0beae57:0xb3159fe6572670c3 2017-07-02 19:41:03  \n",
       "2549957  0x808fe955b0beae57:0xb3159fe6572670c3 2020-11-05 01:30:44  \n",
       "2549958  0x808fe955b0beae57:0xb3159fe6572670c3 2021-09-12 06:52:46  \n",
       "2549960  0x808fe955b0beae57:0xb3159fe6572670c3 2021-11-17 01:27:55  \n",
       "2549961  0x808fe955b0beae57:0xb3159fe6572670c3 2017-07-02 14:15:15  \n",
       "\n",
       "[281042 rows x 3 columns]"
      ]
     },
     "execution_count": 28,
     "metadata": {},
     "output_type": "execute_result"
    }
   ],
   "source": [
    "review_google_clean"
   ]
  },
  {
   "cell_type": "markdown",
   "metadata": {},
   "source": [
    "### Guardar el dataframe en formato tipo parquet y crear tabla en base de datos."
   ]
  },
  {
   "cell_type": "code",
   "execution_count": 29,
   "metadata": {},
   "outputs": [],
   "source": [
    "# Guardar el dataframe en formato tipo parquet.\n",
    "review_google_clean.to_parquet('reviews_final.parquet', index=False)"
   ]
  }
 ],
 "metadata": {
  "kernelspec": {
   "display_name": "entorno",
   "language": "python",
   "name": "python3"
  },
  "language_info": {
   "codemirror_mode": {
    "name": "ipython",
    "version": 3
   },
   "file_extension": ".py",
   "mimetype": "text/x-python",
   "name": "python",
   "nbconvert_exporter": "python",
   "pygments_lexer": "ipython3",
   "version": "3.10.7"
  }
 },
 "nbformat": 4,
 "nbformat_minor": 2
}
